{
 "cells": [
  {
   "cell_type": "markdown",
   "id": "ca044a4f",
   "metadata": {
    "papermill": {
     "duration": 0.010054,
     "end_time": "2023-08-26T08:44:49.396610",
     "exception": false,
     "start_time": "2023-08-26T08:44:49.386556",
     "status": "completed"
    },
    "tags": []
   },
   "source": [
    "# TASK#3  IRIS FLOWER CLASSIFICATION"
   ]
  },
  {
   "cell_type": "markdown",
   "id": "e403b2aa",
   "metadata": {
    "papermill": {
     "duration": 0.009554,
     "end_time": "2023-08-26T08:44:49.415942",
     "exception": false,
     "start_time": "2023-08-26T08:44:49.406388",
     "status": "completed"
    },
    "tags": []
   },
   "source": [
    "IRIS FLOWER CLASSIFICATION\n",
    "\n",
    "The Iris flower dataset consists of three species: setosa, versicolor,\n",
    "and virginica. These species can be distinguished based on their\n",
    "measurements. Now, imagine that you have the measurements\n",
    "of Iris flowers categorized by their respective species. \n",
    "Your objective is to train a machine learning model that can learn from\n",
    "these measurements and accurately classify the Iris flowers into\n",
    "their respective species.\n",
    "Use the Iris dataset to develop a model that can classify iris\n",
    "flowers into different species based on their sepal and petal\n",
    "measurements. This dataset is widely used for introductory\n",
    "classification tasks."
   ]
  },
  {
   "cell_type": "markdown",
   "id": "405cda05",
   "metadata": {
    "papermill": {
     "duration": 0.00938,
     "end_time": "2023-08-26T08:44:49.434968",
     "exception": false,
     "start_time": "2023-08-26T08:44:49.425588",
     "status": "completed"
    },
    "tags": []
   },
   "source": [
    "Author : Muhammad Rahim\n",
    "\n",
    "Batch  : October\n",
    "\n",
    "Domain : Data Science"
   ]
  },
  {
   "cell_type": "markdown",
   "id": "c0e71401",
   "metadata": {
    "papermill": {
     "duration": 0.009078,
     "end_time": "2023-08-26T08:44:49.453689",
     "exception": false,
     "start_time": "2023-08-26T08:44:49.444611",
     "status": "completed"
    },
    "tags": []
   },
   "source": [
    "## Importing necessary libraries"
   ]
  },
  {
   "cell_type": "code",
   "execution_count": 2,
   "id": "f243670e",
   "metadata": {
    "execution": {
     "iopub.execute_input": "2023-08-26T08:44:49.475453Z",
     "iopub.status.busy": "2023-08-26T08:44:49.475059Z",
     "iopub.status.idle": "2023-08-26T08:44:51.260494Z",
     "shell.execute_reply": "2023-08-26T08:44:51.259648Z"
    },
    "papermill": {
     "duration": 1.798885,
     "end_time": "2023-08-26T08:44:51.263220",
     "exception": false,
     "start_time": "2023-08-26T08:44:49.464335",
     "status": "completed"
    },
    "tags": []
   },
   "outputs": [],
   "source": [
    "import numpy as np \n",
    "import pandas as pd \n",
    "from sklearn.cluster import KMeans\n",
    "import matplotlib.pyplot as plt\n",
    "import seaborn as sns\n",
    " \n",
    "\n",
    "from sklearn.model_selection import train_test_split\n",
    "from sklearn.preprocessing import StandardScaler\n",
    "from sklearn.neighbors import KNeighborsClassifier\n",
    "from sklearn.metrics import classification_report\n"
   ]
  },
  {
   "cell_type": "markdown",
   "id": "a5029c02",
   "metadata": {
    "papermill": {
     "duration": 0.009523,
     "end_time": "2023-08-26T08:44:51.283118",
     "exception": false,
     "start_time": "2023-08-26T08:44:51.273595",
     "status": "completed"
    },
    "tags": []
   },
   "source": [
    "## Loading Dataset"
   ]
  },
  {
   "cell_type": "code",
   "execution_count": 3,
   "id": "2bf87840",
   "metadata": {
    "execution": {
     "iopub.execute_input": "2023-08-26T08:44:51.305040Z",
     "iopub.status.busy": "2023-08-26T08:44:51.304258Z",
     "iopub.status.idle": "2023-08-26T08:44:51.952993Z",
     "shell.execute_reply": "2023-08-26T08:44:51.952075Z"
    },
    "papermill": {
     "duration": 0.66234,
     "end_time": "2023-08-26T08:44:51.955375",
     "exception": false,
     "start_time": "2023-08-26T08:44:51.293035",
     "status": "completed"
    },
    "tags": []
   },
   "outputs": [],
   "source": [
    "# Loading dataset\n",
    "\n",
    "df = sns.load_dataset('iris')"
   ]
  },
  {
   "cell_type": "markdown",
   "id": "983fcf12",
   "metadata": {},
   "source": [
    "## Exploratory Data Analysis"
   ]
  },
  {
   "cell_type": "code",
   "execution_count": 4,
   "id": "4005f50c",
   "metadata": {
    "execution": {
     "iopub.execute_input": "2023-08-26T08:44:51.976906Z",
     "iopub.status.busy": "2023-08-26T08:44:51.976554Z",
     "iopub.status.idle": "2023-08-26T08:44:51.997408Z",
     "shell.execute_reply": "2023-08-26T08:44:51.996720Z"
    },
    "papermill": {
     "duration": 0.034152,
     "end_time": "2023-08-26T08:44:51.999486",
     "exception": false,
     "start_time": "2023-08-26T08:44:51.965334",
     "status": "completed"
    },
    "tags": []
   },
   "outputs": [
    {
     "data": {
      "text/html": [
       "<div>\n",
       "<style scoped>\n",
       "    .dataframe tbody tr th:only-of-type {\n",
       "        vertical-align: middle;\n",
       "    }\n",
       "\n",
       "    .dataframe tbody tr th {\n",
       "        vertical-align: top;\n",
       "    }\n",
       "\n",
       "    .dataframe thead th {\n",
       "        text-align: right;\n",
       "    }\n",
       "</style>\n",
       "<table border=\"1\" class=\"dataframe\">\n",
       "  <thead>\n",
       "    <tr style=\"text-align: right;\">\n",
       "      <th></th>\n",
       "      <th>sepal_length</th>\n",
       "      <th>sepal_width</th>\n",
       "      <th>petal_length</th>\n",
       "      <th>petal_width</th>\n",
       "      <th>species</th>\n",
       "    </tr>\n",
       "  </thead>\n",
       "  <tbody>\n",
       "    <tr>\n",
       "      <th>0</th>\n",
       "      <td>5.1</td>\n",
       "      <td>3.5</td>\n",
       "      <td>1.4</td>\n",
       "      <td>0.2</td>\n",
       "      <td>setosa</td>\n",
       "    </tr>\n",
       "    <tr>\n",
       "      <th>1</th>\n",
       "      <td>4.9</td>\n",
       "      <td>3.0</td>\n",
       "      <td>1.4</td>\n",
       "      <td>0.2</td>\n",
       "      <td>setosa</td>\n",
       "    </tr>\n",
       "    <tr>\n",
       "      <th>2</th>\n",
       "      <td>4.7</td>\n",
       "      <td>3.2</td>\n",
       "      <td>1.3</td>\n",
       "      <td>0.2</td>\n",
       "      <td>setosa</td>\n",
       "    </tr>\n",
       "    <tr>\n",
       "      <th>3</th>\n",
       "      <td>4.6</td>\n",
       "      <td>3.1</td>\n",
       "      <td>1.5</td>\n",
       "      <td>0.2</td>\n",
       "      <td>setosa</td>\n",
       "    </tr>\n",
       "    <tr>\n",
       "      <th>4</th>\n",
       "      <td>5.0</td>\n",
       "      <td>3.6</td>\n",
       "      <td>1.4</td>\n",
       "      <td>0.2</td>\n",
       "      <td>setosa</td>\n",
       "    </tr>\n",
       "  </tbody>\n",
       "</table>\n",
       "</div>"
      ],
      "text/plain": [
       "   sepal_length  sepal_width  petal_length  petal_width species\n",
       "0           5.1          3.5           1.4          0.2  setosa\n",
       "1           4.9          3.0           1.4          0.2  setosa\n",
       "2           4.7          3.2           1.3          0.2  setosa\n",
       "3           4.6          3.1           1.5          0.2  setosa\n",
       "4           5.0          3.6           1.4          0.2  setosa"
      ]
     },
     "execution_count": 4,
     "metadata": {},
     "output_type": "execute_result"
    }
   ],
   "source": [
    "# Viewing the first few rows of the dataset\n",
    "\n",
    "df.head()"
   ]
  },
  {
   "cell_type": "code",
   "execution_count": 5,
   "id": "53daff8c",
   "metadata": {
    "execution": {
     "iopub.execute_input": "2023-08-26T08:44:52.020890Z",
     "iopub.status.busy": "2023-08-26T08:44:52.020159Z",
     "iopub.status.idle": "2023-08-26T08:44:52.036944Z",
     "shell.execute_reply": "2023-08-26T08:44:52.035923Z"
    },
    "papermill": {
     "duration": 0.029759,
     "end_time": "2023-08-26T08:44:52.039446",
     "exception": false,
     "start_time": "2023-08-26T08:44:52.009687",
     "status": "completed"
    },
    "tags": []
   },
   "outputs": [
    {
     "data": {
      "text/html": [
       "<div>\n",
       "<style scoped>\n",
       "    .dataframe tbody tr th:only-of-type {\n",
       "        vertical-align: middle;\n",
       "    }\n",
       "\n",
       "    .dataframe tbody tr th {\n",
       "        vertical-align: top;\n",
       "    }\n",
       "\n",
       "    .dataframe thead th {\n",
       "        text-align: right;\n",
       "    }\n",
       "</style>\n",
       "<table border=\"1\" class=\"dataframe\">\n",
       "  <thead>\n",
       "    <tr style=\"text-align: right;\">\n",
       "      <th></th>\n",
       "      <th>sepal_length</th>\n",
       "      <th>sepal_width</th>\n",
       "      <th>petal_length</th>\n",
       "      <th>petal_width</th>\n",
       "      <th>species</th>\n",
       "    </tr>\n",
       "  </thead>\n",
       "  <tbody>\n",
       "    <tr>\n",
       "      <th>0</th>\n",
       "      <td>5.1</td>\n",
       "      <td>3.5</td>\n",
       "      <td>1.4</td>\n",
       "      <td>0.2</td>\n",
       "      <td>0</td>\n",
       "    </tr>\n",
       "    <tr>\n",
       "      <th>1</th>\n",
       "      <td>4.9</td>\n",
       "      <td>3.0</td>\n",
       "      <td>1.4</td>\n",
       "      <td>0.2</td>\n",
       "      <td>0</td>\n",
       "    </tr>\n",
       "    <tr>\n",
       "      <th>2</th>\n",
       "      <td>4.7</td>\n",
       "      <td>3.2</td>\n",
       "      <td>1.3</td>\n",
       "      <td>0.2</td>\n",
       "      <td>0</td>\n",
       "    </tr>\n",
       "    <tr>\n",
       "      <th>3</th>\n",
       "      <td>4.6</td>\n",
       "      <td>3.1</td>\n",
       "      <td>1.5</td>\n",
       "      <td>0.2</td>\n",
       "      <td>0</td>\n",
       "    </tr>\n",
       "    <tr>\n",
       "      <th>4</th>\n",
       "      <td>5.0</td>\n",
       "      <td>3.6</td>\n",
       "      <td>1.4</td>\n",
       "      <td>0.2</td>\n",
       "      <td>0</td>\n",
       "    </tr>\n",
       "  </tbody>\n",
       "</table>\n",
       "</div>"
      ],
      "text/plain": [
       "   sepal_length  sepal_width  petal_length  petal_width  species\n",
       "0           5.1          3.5           1.4          0.2        0\n",
       "1           4.9          3.0           1.4          0.2        0\n",
       "2           4.7          3.2           1.3          0.2        0\n",
       "3           4.6          3.1           1.5          0.2        0\n",
       "4           5.0          3.6           1.4          0.2        0"
      ]
     },
     "execution_count": 5,
     "metadata": {},
     "output_type": "execute_result"
    }
   ],
   "source": [
    "#Factorizing column values\n",
    "\n",
    "df['species'], categories = pd.factorize(df['species'])\n",
    "df.head()"
   ]
  },
  {
   "cell_type": "code",
   "execution_count": 6,
   "id": "353b712c",
   "metadata": {
    "execution": {
     "iopub.execute_input": "2023-08-26T08:44:52.062187Z",
     "iopub.status.busy": "2023-08-26T08:44:52.061459Z",
     "iopub.status.idle": "2023-08-26T08:44:52.073133Z",
     "shell.execute_reply": "2023-08-26T08:44:52.072267Z"
    },
    "papermill": {
     "duration": 0.025302,
     "end_time": "2023-08-26T08:44:52.075227",
     "exception": false,
     "start_time": "2023-08-26T08:44:52.049925",
     "status": "completed"
    },
    "tags": []
   },
   "outputs": [
    {
     "data": {
      "text/plain": [
       "<bound method NDFrame.describe of      sepal_length  sepal_width  petal_length  petal_width  species\n",
       "0             5.1          3.5           1.4          0.2        0\n",
       "1             4.9          3.0           1.4          0.2        0\n",
       "2             4.7          3.2           1.3          0.2        0\n",
       "3             4.6          3.1           1.5          0.2        0\n",
       "4             5.0          3.6           1.4          0.2        0\n",
       "..            ...          ...           ...          ...      ...\n",
       "145           6.7          3.0           5.2          2.3        2\n",
       "146           6.3          2.5           5.0          1.9        2\n",
       "147           6.5          3.0           5.2          2.0        2\n",
       "148           6.2          3.4           5.4          2.3        2\n",
       "149           5.9          3.0           5.1          1.8        2\n",
       "\n",
       "[150 rows x 5 columns]>"
      ]
     },
     "execution_count": 6,
     "metadata": {},
     "output_type": "execute_result"
    }
   ],
   "source": [
    "# Getting statistical summary of the numerical columns\n",
    "\n",
    "df.describe"
   ]
  },
  {
   "cell_type": "code",
   "execution_count": 7,
   "id": "894088f9",
   "metadata": {
    "execution": {
     "iopub.execute_input": "2023-08-26T08:44:52.098514Z",
     "iopub.status.busy": "2023-08-26T08:44:52.097896Z",
     "iopub.status.idle": "2023-08-26T08:44:52.108842Z",
     "shell.execute_reply": "2023-08-26T08:44:52.107898Z"
    },
    "papermill": {
     "duration": 0.025105,
     "end_time": "2023-08-26T08:44:52.111030",
     "exception": false,
     "start_time": "2023-08-26T08:44:52.085925",
     "status": "completed"
    },
    "tags": []
   },
   "outputs": [
    {
     "data": {
      "text/plain": [
       "sepal_length    0\n",
       "sepal_width     0\n",
       "petal_length    0\n",
       "petal_width     0\n",
       "species         0\n",
       "dtype: int64"
      ]
     },
     "execution_count": 7,
     "metadata": {},
     "output_type": "execute_result"
    }
   ],
   "source": [
    "#Checking for Null values\n",
    "\n",
    "df.isna().sum()"
   ]
  },
  {
   "cell_type": "markdown",
   "id": "c69a5a01",
   "metadata": {
    "papermill": {
     "duration": 0.010578,
     "end_time": "2023-08-26T08:44:52.132198",
     "exception": false,
     "start_time": "2023-08-26T08:44:52.121620",
     "status": "completed"
    },
    "tags": []
   },
   "source": [
    "## Data Visualization"
   ]
  },
  {
   "cell_type": "code",
   "execution_count": 8,
   "id": "8161db4b",
   "metadata": {
    "execution": {
     "iopub.execute_input": "2023-08-26T08:44:52.154884Z",
     "iopub.status.busy": "2023-08-26T08:44:52.154542Z",
     "iopub.status.idle": "2023-08-26T08:44:52.455486Z",
     "shell.execute_reply": "2023-08-26T08:44:52.454708Z"
    },
    "papermill": {
     "duration": 0.315521,
     "end_time": "2023-08-26T08:44:52.458353",
     "exception": false,
     "start_time": "2023-08-26T08:44:52.142832",
     "status": "completed"
    },
    "tags": []
   },
   "outputs": [
    {
     "data": {
      "image/png": "[encoded data removed]",
      "text/plain": [
       "<Figure size 432x288 with 1 Axes>"
      ]
     },
     "metadata": {
      "needs_background": "light"
     },
     "output_type": "display_data"
    }
   ],
   "source": [
    "from mpl_toolkits.mplot3d import Axes3D\n",
    "fig = plt.figure()\n",
    "ax  = fig.add_subplot(111, projection = '3d')\n",
    "ax.scatter (df.petal_length, df.petal_width, df.species)\n",
    "ax.set_xlabel('Petal Length in Cms')\n",
    "ax.set_ylabel('Petal Widht in Cms')\n",
    "ax.set_zlabel('Species')\n",
    "plt.title('3D Scatter plot Example')\n",
    "plt.show()"
   ]
  },
  {
   "cell_type": "code",
   "execution_count": 9,
   "id": "eb9a9531",
   "metadata": {
    "execution": {
     "iopub.execute_input": "2023-08-26T08:44:52.484464Z",
     "iopub.status.busy": "2023-08-26T08:44:52.483870Z",
     "iopub.status.idle": "2023-08-26T08:44:52.756018Z",
     "shell.execute_reply": "2023-08-26T08:44:52.755039Z"
    },
    "papermill": {
     "duration": 0.288565,
     "end_time": "2023-08-26T08:44:52.759117",
     "exception": false,
     "start_time": "2023-08-26T08:44:52.470552",
     "status": "completed"
    },
    "tags": []
   },
   "outputs": [
    {
     "data": {
      "image/png": "[encoded data removed]",
      "text/plain": [
       "<Figure size 432x288 with 1 Axes>"
      ]
     },
     "metadata": {
      "needs_background": "light"
     },
     "output_type": "display_data"
    }
   ],
   "source": [
    "fig = plt.figure()\n",
    "ax  = fig.add_subplot(111, projection = '3d')\n",
    "ax.scatter (df.sepal_length, df.sepal_width, df.species)\n",
    "ax.set_xlabel('Setal Length in Cms')\n",
    "ax.set_ylabel('Setal Widht in Cms')\n",
    "ax.set_zlabel('Species')\n",
    "plt.title('3D Scatter plot Example')\n",
    "plt.show()"
   ]
  },
  {
   "cell_type": "markdown",
   "id": "b0148109",
   "metadata": {
    "papermill": {
     "duration": 0.013439,
     "end_time": "2023-08-26T08:44:52.785343",
     "exception": false,
     "start_time": "2023-08-26T08:44:52.771904",
     "status": "completed"
    },
    "tags": []
   },
   "source": [
    "> Thus 3d Plot gives us the glimplse of species of iris flower is more inclined towards the variables petal length and petal width"
   ]
  },
  {
   "cell_type": "code",
   "execution_count": 10,
   "id": "a9d4c3bd",
   "metadata": {
    "execution": {
     "iopub.execute_input": "2023-08-26T08:44:52.815105Z",
     "iopub.status.busy": "2023-08-26T08:44:52.814528Z",
     "iopub.status.idle": "2023-08-26T08:44:53.251250Z",
     "shell.execute_reply": "2023-08-26T08:44:53.250183Z"
    },
    "papermill": {
     "duration": 0.454374,
     "end_time": "2023-08-26T08:44:53.253644",
     "exception": false,
     "start_time": "2023-08-26T08:44:52.799270",
     "status": "completed"
    },
    "tags": []
   },
   "outputs": [
    {
     "data": {
      "text/plain": [
       "<AxesSubplot:xlabel='sepal_length', ylabel='sepal_width'>"
      ]
     },
     "execution_count": 10,
     "metadata": {},
     "output_type": "execute_result"
    },
    {
     "data": {
      "image/png": "[encoded data removed]",
      "text/plain": [
       "<Figure size 432x288 with 1 Axes>"
      ]
     },
     "metadata": {
      "needs_background": "light"
     },
     "output_type": "display_data"
    }
   ],
   "source": [
    "sns.scatterplot(data = df, x = 'sepal_length', y = 'sepal_width', hue = 'species')"
   ]
  },
  {
   "cell_type": "code",
   "execution_count": 11,
   "id": "2447a5c8",
   "metadata": {
    "execution": {
     "iopub.execute_input": "2023-08-26T08:44:53.283374Z",
     "iopub.status.busy": "2023-08-26T08:44:53.283014Z",
     "iopub.status.idle": "2023-08-26T08:44:53.703365Z",
     "shell.execute_reply": "2023-08-26T08:44:53.702276Z"
    },
    "papermill": {
     "duration": 0.438323,
     "end_time": "2023-08-26T08:44:53.705675",
     "exception": false,
     "start_time": "2023-08-26T08:44:53.267352",
     "status": "completed"
    },
    "tags": []
   },
   "outputs": [
    {
     "data": {
      "text/plain": [
       "<AxesSubplot:xlabel='petal_length', ylabel='petal_width'>"
      ]
     },
     "execution_count": 11,
     "metadata": {},
     "output_type": "execute_result"
    },
    {
     "data": {
      "image/png": "[encoded data removed]",
      "text/plain": [
       "<Figure size 432x288 with 1 Axes>"
      ]
     },
     "metadata": {
      "needs_background": "light"
     },
     "output_type": "display_data"
    }
   ],
   "source": [
    "sns.scatterplot(data = df, x = 'petal_length', y = 'petal_width', hue = 'species')"
   ]
  },
  {
   "cell_type": "markdown",
   "id": "a4214bd1",
   "metadata": {
    "papermill": {
     "duration": 0.014855,
     "end_time": "2023-08-26T08:44:53.735738",
     "exception": false,
     "start_time": "2023-08-26T08:44:53.720883",
     "status": "completed"
    },
    "tags": []
   },
   "source": [
    "## Applying Elbow Technique"
   ]
  },
  {
   "cell_type": "code",
   "execution_count": 12,
   "id": "47061125",
   "metadata": {
    "execution": {
     "iopub.execute_input": "2023-08-26T08:44:53.766643Z",
     "iopub.status.busy": "2023-08-26T08:44:53.766256Z",
     "iopub.status.idle": "2023-08-26T08:44:54.021118Z",
     "shell.execute_reply": "2023-08-26T08:44:54.020071Z"
    },
    "papermill": {
     "duration": 0.272409,
     "end_time": "2023-08-26T08:44:54.023340",
     "exception": false,
     "start_time": "2023-08-26T08:44:53.750931",
     "status": "completed"
    },
    "tags": []
   },
   "outputs": [
    {
     "name": "stderr",
     "output_type": "stream",
     "text": [
      "C:\\Users\\crazy\\anaconda3\\lib\\site-packages\\sklearn\\cluster\\_kmeans.py:881: UserWarning: KMeans is known to have a memory leak on Windows with MKL, when there are less chunks than available threads. You can avoid it by setting the environment variable OMP_NUM_THREADS=1.\n",
      "  warnings.warn(\n"
     ]
    }
   ],
   "source": [
    "k_rng = range(1,10)\n",
    "sse = []\n",
    "\n",
    "\n",
    "for k in k_rng:\n",
    "    km = KMeans(n_clusters = k)\n",
    "    km.fit(df[['petal_length', 'petal_width']])\n",
    "    sse.append(km.inertia_)"
   ]
  },
  {
   "cell_type": "code",
   "execution_count": 13,
   "id": "777bc8c0",
   "metadata": {
    "execution": {
     "iopub.execute_input": "2023-08-26T08:44:54.055809Z",
     "iopub.status.busy": "2023-08-26T08:44:54.054968Z",
     "iopub.status.idle": "2023-08-26T08:44:54.061358Z",
     "shell.execute_reply": "2023-08-26T08:44:54.060431Z"
    },
    "papermill": {
     "duration": 0.024652,
     "end_time": "2023-08-26T08:44:54.063650",
     "exception": false,
     "start_time": "2023-08-26T08:44:54.038998",
     "status": "completed"
    },
    "tags": []
   },
   "outputs": [
    {
     "data": {
      "text/plain": [
       "[550.8953333333333,\n",
       " 86.39021984551391,\n",
       " 31.371358974358966,\n",
       " 19.477123363965468,\n",
       " 13.983213141025644,\n",
       " 11.070652341896283,\n",
       " 9.185075914423738,\n",
       " 7.67314034019405,\n",
       " 6.514232636644398]"
      ]
     },
     "execution_count": 13,
     "metadata": {},
     "output_type": "execute_result"
    }
   ],
   "source": [
    "sse"
   ]
  },
  {
   "cell_type": "code",
   "execution_count": 14,
   "id": "3c815019",
   "metadata": {
    "execution": {
     "iopub.execute_input": "2023-08-26T08:44:54.095158Z",
     "iopub.status.busy": "2023-08-26T08:44:54.094543Z",
     "iopub.status.idle": "2023-08-26T08:44:54.372186Z",
     "shell.execute_reply": "2023-08-26T08:44:54.371158Z"
    },
    "papermill": {
     "duration": 0.295486,
     "end_time": "2023-08-26T08:44:54.374363",
     "exception": false,
     "start_time": "2023-08-26T08:44:54.078877",
     "status": "completed"
    },
    "tags": []
   },
   "outputs": [
    {
     "data": {
      "text/plain": [
       "[<matplotlib.lines.Line2D at 0x1d2fd9c10d0>]"
      ]
     },
     "execution_count": 14,
     "metadata": {},
     "output_type": "execute_result"
    },
    {
     "data": {
      "image/png": "[encoded data removed]",
      "text/plain": [
       "<Figure size 432x288 with 1 Axes>"
      ]
     },
     "metadata": {
      "needs_background": "light"
     },
     "output_type": "display_data"
    }
   ],
   "source": [
    "plt.xlabel('k_rng')\n",
    "plt.ylabel('Sum of Squared Errors')\n",
    "plt.plot(k_rng, sse)"
   ]
  },
  {
   "cell_type": "markdown",
   "id": "fd9ab68f",
   "metadata": {
    "papermill": {
     "duration": 0.015815,
     "end_time": "2023-08-26T08:44:54.406291",
     "exception": false,
     "start_time": "2023-08-26T08:44:54.390476",
     "status": "completed"
    },
    "tags": []
   },
   "source": [
    "## Applying KMeans Algorithm"
   ]
  },
  {
   "cell_type": "code",
   "execution_count": 15,
   "id": "efb01c9a",
   "metadata": {
    "execution": {
     "iopub.execute_input": "2023-08-26T08:44:54.440822Z",
     "iopub.status.busy": "2023-08-26T08:44:54.439835Z",
     "iopub.status.idle": "2023-08-26T08:44:54.464046Z",
     "shell.execute_reply": "2023-08-26T08:44:54.463304Z"
    },
    "papermill": {
     "duration": 0.044226,
     "end_time": "2023-08-26T08:44:54.467143",
     "exception": false,
     "start_time": "2023-08-26T08:44:54.422917",
     "status": "completed"
    },
    "tags": []
   },
   "outputs": [
    {
     "data": {
      "text/plain": [
       "array([0, 0, 0, 0, 0, 0, 0, 0, 0, 0, 0, 0, 0, 0, 0, 0, 0, 0, 0, 0, 0, 0,\n",
       "       0, 0, 0, 0, 0, 0, 0, 0, 0, 0, 0, 0, 0, 0, 0, 0, 0, 0, 0, 0, 0, 0,\n",
       "       0, 0, 0, 0, 0, 0, 2, 2, 2, 2, 2, 2, 2, 2, 2, 2, 2, 2, 2, 2, 2, 2,\n",
       "       2, 2, 2, 2, 2, 2, 2, 2, 2, 2, 2, 1, 2, 2, 2, 2, 2, 1, 2, 2, 2, 2,\n",
       "       2, 2, 2, 2, 2, 2, 2, 2, 2, 2, 2, 2, 1, 1, 1, 1, 1, 1, 2, 1, 1, 1,\n",
       "       1, 1, 1, 1, 1, 1, 1, 1, 1, 2, 1, 1, 1, 1, 1, 1, 2, 1, 1, 1, 1, 1,\n",
       "       1, 1, 1, 1, 1, 1, 2, 1, 1, 1, 1, 1, 1, 1, 1, 1, 1, 1])"
      ]
     },
     "execution_count": 15,
     "metadata": {},
     "output_type": "execute_result"
    }
   ],
   "source": [
    "km = KMeans (n_clusters = 3, random_state = 0)\n",
    "y_predicted = km.fit_predict(df[['petal_length', 'petal_width']])\n",
    "y_predicted"
   ]
  },
  {
   "cell_type": "code",
   "execution_count": 16,
   "id": "6451dfbe",
   "metadata": {
    "execution": {
     "iopub.execute_input": "2023-08-26T08:44:54.501046Z",
     "iopub.status.busy": "2023-08-26T08:44:54.500710Z",
     "iopub.status.idle": "2023-08-26T08:44:54.514204Z",
     "shell.execute_reply": "2023-08-26T08:44:54.513527Z"
    },
    "papermill": {
     "duration": 0.032141,
     "end_time": "2023-08-26T08:44:54.516106",
     "exception": false,
     "start_time": "2023-08-26T08:44:54.483965",
     "status": "completed"
    },
    "tags": []
   },
   "outputs": [
    {
     "data": {
      "text/html": [
       "<div>\n",
       "<style scoped>\n",
       "    .dataframe tbody tr th:only-of-type {\n",
       "        vertical-align: middle;\n",
       "    }\n",
       "\n",
       "    .dataframe tbody tr th {\n",
       "        vertical-align: top;\n",
       "    }\n",
       "\n",
       "    .dataframe thead th {\n",
       "        text-align: right;\n",
       "    }\n",
       "</style>\n",
       "<table border=\"1\" class=\"dataframe\">\n",
       "  <thead>\n",
       "    <tr style=\"text-align: right;\">\n",
       "      <th></th>\n",
       "      <th>sepal_length</th>\n",
       "      <th>sepal_width</th>\n",
       "      <th>petal_length</th>\n",
       "      <th>petal_width</th>\n",
       "      <th>species</th>\n",
       "      <th>cluster</th>\n",
       "    </tr>\n",
       "  </thead>\n",
       "  <tbody>\n",
       "    <tr>\n",
       "      <th>0</th>\n",
       "      <td>5.1</td>\n",
       "      <td>3.5</td>\n",
       "      <td>1.4</td>\n",
       "      <td>0.2</td>\n",
       "      <td>0</td>\n",
       "      <td>0</td>\n",
       "    </tr>\n",
       "    <tr>\n",
       "      <th>1</th>\n",
       "      <td>4.9</td>\n",
       "      <td>3.0</td>\n",
       "      <td>1.4</td>\n",
       "      <td>0.2</td>\n",
       "      <td>0</td>\n",
       "      <td>0</td>\n",
       "    </tr>\n",
       "    <tr>\n",
       "      <th>2</th>\n",
       "      <td>4.7</td>\n",
       "      <td>3.2</td>\n",
       "      <td>1.3</td>\n",
       "      <td>0.2</td>\n",
       "      <td>0</td>\n",
       "      <td>0</td>\n",
       "    </tr>\n",
       "    <tr>\n",
       "      <th>3</th>\n",
       "      <td>4.6</td>\n",
       "      <td>3.1</td>\n",
       "      <td>1.5</td>\n",
       "      <td>0.2</td>\n",
       "      <td>0</td>\n",
       "      <td>0</td>\n",
       "    </tr>\n",
       "    <tr>\n",
       "      <th>4</th>\n",
       "      <td>5.0</td>\n",
       "      <td>3.6</td>\n",
       "      <td>1.4</td>\n",
       "      <td>0.2</td>\n",
       "      <td>0</td>\n",
       "      <td>0</td>\n",
       "    </tr>\n",
       "  </tbody>\n",
       "</table>\n",
       "</div>"
      ],
      "text/plain": [
       "   sepal_length  sepal_width  petal_length  petal_width  species  cluster\n",
       "0           5.1          3.5           1.4          0.2        0        0\n",
       "1           4.9          3.0           1.4          0.2        0        0\n",
       "2           4.7          3.2           1.3          0.2        0        0\n",
       "3           4.6          3.1           1.5          0.2        0        0\n",
       "4           5.0          3.6           1.4          0.2        0        0"
      ]
     },
     "execution_count": 16,
     "metadata": {},
     "output_type": "execute_result"
    }
   ],
   "source": [
    "df['cluster'] = y_predicted\n",
    "df.head(5)"
   ]
  },
  {
   "cell_type": "markdown",
   "id": "5fde32b7",
   "metadata": {
    "papermill": {
     "duration": 0.014955,
     "end_time": "2023-08-26T08:44:54.547124",
     "exception": false,
     "start_time": "2023-08-26T08:44:54.532169",
     "status": "completed"
    },
    "tags": []
   },
   "source": [
    "## Measuring Accuracy"
   ]
  },
  {
   "cell_type": "code",
   "execution_count": 17,
   "id": "c60bc5c4",
   "metadata": {
    "execution": {
     "iopub.execute_input": "2023-08-26T08:44:54.579610Z",
     "iopub.status.busy": "2023-08-26T08:44:54.579241Z",
     "iopub.status.idle": "2023-08-26T08:44:54.588386Z",
     "shell.execute_reply": "2023-08-26T08:44:54.587676Z"
    },
    "papermill": {
     "duration": 0.027672,
     "end_time": "2023-08-26T08:44:54.590340",
     "exception": false,
     "start_time": "2023-08-26T08:44:54.562668",
     "status": "completed"
    },
    "tags": []
   },
   "outputs": [
    {
     "data": {
      "text/plain": [
       "array([[50,  0,  0],\n",
       "       [ 0,  2, 48],\n",
       "       [ 0, 46,  4]], dtype=int64)"
      ]
     },
     "execution_count": 17,
     "metadata": {},
     "output_type": "execute_result"
    }
   ],
   "source": [
    "from sklearn.metrics import confusion_matrix\n",
    "cm = confusion_matrix(df.species, df.cluster)\n",
    "cm"
   ]
  },
  {
   "cell_type": "code",
   "execution_count": 18,
   "id": "126f3f53",
   "metadata": {
    "execution": {
     "iopub.execute_input": "2023-08-26T08:44:54.623653Z",
     "iopub.status.busy": "2023-08-26T08:44:54.623283Z",
     "iopub.status.idle": "2023-08-26T08:44:54.922332Z",
     "shell.execute_reply": "2023-08-26T08:44:54.921267Z"
    },
    "papermill": {
     "duration": 0.318504,
     "end_time": "2023-08-26T08:44:54.924578",
     "exception": false,
     "start_time": "2023-08-26T08:44:54.606074",
     "status": "completed"
    },
    "tags": []
   },
   "outputs": [
    {
     "data": {
      "image/png": "[encoded data removed]",
      "text/plain": [
       "<Figure size 432x288 with 2 Axes>"
      ]
     },
     "metadata": {
      "needs_background": "light"
     },
     "output_type": "display_data"
    }
   ],
   "source": [
    "true_labels = df.species\n",
    "predicted_labels = df.cluster\n",
    "\n",
    "cm = confusion_matrix (true_labels, predicted_labels)\n",
    "class_labels = ['setosa', 'versicolor', 'virginica']\n",
    "\n",
    "\n",
    "#Plot Confusion Matrix\n",
    "\n",
    "plt.imshow(cm, interpolation = 'nearest', cmap= plt.cm.Blues )\n",
    "plt.title('Confusion Matrix')\n",
    "plt.colorbar()\n",
    "tick_marks = np.arange(len(class_labels))\n",
    "plt.xticks(tick_marks, class_labels)\n",
    "plt.yticks(tick_marks, class_labels)\n",
    "\n",
    "#fill matrix with values\n",
    "\n",
    "for i in range (len(class_labels)):\n",
    "    for j in range (len(class_labels)):\n",
    "        plt.text(j, i, str(cm[i][j]),ha = 'center', va = 'center', color = 'white')\n",
    "plt.xlabel('Predicted label')\n",
    "plt.ylabel('True label')\n",
    "plt.show()"
   ]
  },
  {
   "cell_type": "markdown",
   "id": "47c4099a",
   "metadata": {},
   "source": [
    "## Train test split"
   ]
  },
  {
   "cell_type": "code",
   "execution_count": 19,
   "id": "255e4a5b",
   "metadata": {
    "execution": {
     "iopub.execute_input": "2023-08-26T08:44:54.958366Z",
     "iopub.status.busy": "2023-08-26T08:44:54.958007Z",
     "iopub.status.idle": "2023-08-26T08:44:54.965780Z",
     "shell.execute_reply": "2023-08-26T08:44:54.965107Z"
    },
    "papermill": {
     "duration": 0.027003,
     "end_time": "2023-08-26T08:44:54.967731",
     "exception": false,
     "start_time": "2023-08-26T08:44:54.940728",
     "status": "completed"
    },
    "tags": []
   },
   "outputs": [],
   "source": [
    "# Split the dataset into training and testing sets\n",
    "\n",
    "X = df[['sepal_length', 'sepal_width', 'petal_length', 'petal_width']]\n",
    "y = df['species']\n",
    "X_train, X_test, y_train, y_test = train_test_split(X, y, test_size=0.2, random_state=42)"
   ]
  },
  {
   "cell_type": "code",
   "execution_count": 20,
   "id": "23f22969",
   "metadata": {
    "execution": {
     "iopub.execute_input": "2023-08-26T08:44:55.002335Z",
     "iopub.status.busy": "2023-08-26T08:44:55.001753Z",
     "iopub.status.idle": "2023-08-26T08:44:55.021860Z",
     "shell.execute_reply": "2023-08-26T08:44:55.020881Z"
    },
    "papermill": {
     "duration": 0.039482,
     "end_time": "2023-08-26T08:44:55.024126",
     "exception": false,
     "start_time": "2023-08-26T08:44:54.984644",
     "status": "completed"
    },
    "tags": []
   },
   "outputs": [
    {
     "data": {
      "text/plain": [
       "(     sepal_length  sepal_width  petal_length  petal_width\n",
       " 22            4.6          3.6           1.0          0.2\n",
       " 15            5.7          4.4           1.5          0.4\n",
       " 65            6.7          3.1           4.4          1.4\n",
       " 11            4.8          3.4           1.6          0.2\n",
       " 42            4.4          3.2           1.3          0.2\n",
       " ..            ...          ...           ...          ...\n",
       " 71            6.1          2.8           4.0          1.3\n",
       " 106           4.9          2.5           4.5          1.7\n",
       " 14            5.8          4.0           1.2          0.2\n",
       " 92            5.8          2.6           4.0          1.2\n",
       " 102           7.1          3.0           5.9          2.1\n",
       " \n",
       " [120 rows x 4 columns],\n",
       "      sepal_length  sepal_width  petal_length  petal_width\n",
       " 73            6.1          2.8           4.7          1.2\n",
       " 18            5.7          3.8           1.7          0.3\n",
       " 118           7.7          2.6           6.9          2.3\n",
       " 78            6.0          2.9           4.5          1.5\n",
       " 76            6.8          2.8           4.8          1.4\n",
       " 31            5.4          3.4           1.5          0.4\n",
       " 64            5.6          2.9           3.6          1.3\n",
       " 141           6.9          3.1           5.1          2.3\n",
       " 68            6.2          2.2           4.5          1.5\n",
       " 82            5.8          2.7           3.9          1.2\n",
       " 110           6.5          3.2           5.1          2.0\n",
       " 12            4.8          3.0           1.4          0.1\n",
       " 36            5.5          3.5           1.3          0.2\n",
       " 9             4.9          3.1           1.5          0.1\n",
       " 19            5.1          3.8           1.5          0.3\n",
       " 56            6.3          3.3           4.7          1.6\n",
       " 104           6.5          3.0           5.8          2.2\n",
       " 69            5.6          2.5           3.9          1.1\n",
       " 55            5.7          2.8           4.5          1.3\n",
       " 132           6.4          2.8           5.6          2.2\n",
       " 29            4.7          3.2           1.6          0.2\n",
       " 127           6.1          3.0           4.9          1.8\n",
       " 26            5.0          3.4           1.6          0.4\n",
       " 128           6.4          2.8           5.6          2.1\n",
       " 131           7.9          3.8           6.4          2.0\n",
       " 145           6.7          3.0           5.2          2.3\n",
       " 108           6.7          2.5           5.8          1.8\n",
       " 143           6.8          3.2           5.9          2.3\n",
       " 45            4.8          3.0           1.4          0.3\n",
       " 30            4.8          3.1           1.6          0.2,\n",
       " 22     0\n",
       " 15     0\n",
       " 65     1\n",
       " 11     0\n",
       " 42     0\n",
       "       ..\n",
       " 71     1\n",
       " 106    2\n",
       " 14     0\n",
       " 92     1\n",
       " 102    2\n",
       " Name: species, Length: 120, dtype: int64,\n",
       " 73     1\n",
       " 18     0\n",
       " 118    2\n",
       " 78     1\n",
       " 76     1\n",
       " 31     0\n",
       " 64     1\n",
       " 141    2\n",
       " 68     1\n",
       " 82     1\n",
       " 110    2\n",
       " 12     0\n",
       " 36     0\n",
       " 9      0\n",
       " 19     0\n",
       " 56     1\n",
       " 104    2\n",
       " 69     1\n",
       " 55     1\n",
       " 132    2\n",
       " 29     0\n",
       " 127    2\n",
       " 26     0\n",
       " 128    2\n",
       " 131    2\n",
       " 145    2\n",
       " 108    2\n",
       " 143    2\n",
       " 45     0\n",
       " 30     0\n",
       " Name: species, dtype: int64)"
      ]
     },
     "execution_count": 20,
     "metadata": {},
     "output_type": "execute_result"
    }
   ],
   "source": [
    "X_train, X_test, y_train, y_test"
   ]
  },
  {
   "cell_type": "markdown",
   "id": "3aac1af3",
   "metadata": {},
   "source": [
    "## Scaling"
   ]
  },
  {
   "cell_type": "code",
   "execution_count": 21,
   "id": "ce3ec324",
   "metadata": {
    "execution": {
     "iopub.execute_input": "2023-08-26T08:44:55.058473Z",
     "iopub.status.busy": "2023-08-26T08:44:55.057791Z",
     "iopub.status.idle": "2023-08-26T08:44:55.066536Z",
     "shell.execute_reply": "2023-08-26T08:44:55.065807Z"
    },
    "papermill": {
     "duration": 0.028262,
     "end_time": "2023-08-26T08:44:55.068637",
     "exception": false,
     "start_time": "2023-08-26T08:44:55.040375",
     "status": "completed"
    },
    "tags": []
   },
   "outputs": [],
   "source": [
    "# Standardize features\n",
    "\n",
    "scaler = StandardScaler()\n",
    "X_train_scaled = scaler.fit_transform(X_train)\n",
    "X_test_scaled = scaler.transform(X_test)"
   ]
  },
  {
   "cell_type": "code",
   "execution_count": 22,
   "id": "29b73e5a",
   "metadata": {
    "execution": {
     "iopub.execute_input": "2023-08-26T08:44:55.103834Z",
     "iopub.status.busy": "2023-08-26T08:44:55.103217Z",
     "iopub.status.idle": "2023-08-26T08:44:55.117052Z",
     "shell.execute_reply": "2023-08-26T08:44:55.116102Z"
    },
    "papermill": {
     "duration": 0.03367,
     "end_time": "2023-08-26T08:44:55.118934",
     "exception": false,
     "start_time": "2023-08-26T08:44:55.085264",
     "status": "completed"
    },
    "tags": []
   },
   "outputs": [
    {
     "data": {
      "text/plain": [
       "(array([[-1.47393679,  1.20365799, -1.56253475, -1.31260282],\n",
       "        [-0.13307079,  2.99237573, -1.27600637, -1.04563275],\n",
       "        [ 1.08589829,  0.08570939,  0.38585821,  0.28921757],\n",
       "        [-1.23014297,  0.75647855, -1.2187007 , -1.31260282],\n",
       "        [-1.7177306 ,  0.30929911, -1.39061772, -1.31260282],\n",
       "        [ 0.59831066, -1.25582892,  0.72969227,  0.95664273],\n",
       "        [ 0.72020757,  0.30929911,  0.44316389,  0.4227026 ],\n",
       "        [-0.74255534,  0.98006827, -1.27600637, -1.31260282],\n",
       "        [-0.98634915,  1.20365799, -1.33331205, -1.31260282],\n",
       "        [-0.74255534,  2.32160658, -1.27600637, -1.44608785],\n",
       "        [-0.01117388, -0.80864948,  0.78699794,  0.95664273],\n",
       "        [ 0.23261993,  0.75647855,  0.44316389,  0.55618763],\n",
       "        [ 1.08589829,  0.08570939,  0.55777524,  0.4227026 ],\n",
       "        [-0.49876152,  1.87442714, -1.39061772, -1.04563275],\n",
       "        [-0.49876152,  1.4272477 , -1.27600637, -1.31260282],\n",
       "        [-0.37686461, -1.47941864, -0.01528151, -0.24472256],\n",
       "        [ 0.59831066, -0.58505976,  0.78699794,  0.4227026 ],\n",
       "        [ 0.72020757,  0.08570939,  1.01622064,  0.8231577 ],\n",
       "        [ 0.96400139, -0.13788033,  0.38585821,  0.28921757],\n",
       "        [ 1.69538284,  1.20365799,  1.3600547 ,  1.75755292],\n",
       "        [-0.13307079, -0.36147005,  0.27124686,  0.15573254],\n",
       "        [ 2.18297047, -0.13788033,  1.64658307,  1.22361279],\n",
       "        [-0.2549677 , -0.13788033,  0.44316389,  0.4227026 ],\n",
       "        [-0.86445224,  0.98006827, -1.33331205, -1.31260282],\n",
       "        [ 2.30486738, -0.58505976,  1.70388875,  1.09012776],\n",
       "        [-0.01117388, -0.80864948,  0.21394119, -0.24472256],\n",
       "        [-0.74255534,  0.75647855, -1.33331205, -1.31260282],\n",
       "        [-0.98634915,  0.98006827, -1.39061772, -1.17911778],\n",
       "        [-0.86445224,  1.65083742, -1.04678367, -1.04563275],\n",
       "        [-0.98634915, -2.37377751, -0.12989286, -0.24472256],\n",
       "        [ 0.59831066, -0.80864948,  0.67238659,  0.8231577 ],\n",
       "        [-1.23014297,  0.75647855, -1.04678367, -1.31260282],\n",
       "        [-0.98634915, -0.13788033, -1.2187007 , -1.31260282],\n",
       "        [-0.86445224,  0.53288883, -1.16139502, -0.91214772],\n",
       "        [-0.2549677 , -0.80864948,  0.27124686,  0.15573254],\n",
       "        [-0.86445224,  0.75647855, -1.27600637, -1.31260282],\n",
       "        [-0.13307079, -0.13788033,  0.27124686,  0.02224751],\n",
       "        [ 2.30486738,  1.65083742,  1.70388875,  1.35709783],\n",
       "        [-1.47393679,  0.30929911, -1.33331205, -1.31260282],\n",
       "        [ 0.47641375, -0.36147005,  0.32855254,  0.15573254],\n",
       "        [-0.13307079, -1.25582892,  0.72969227,  1.09012776],\n",
       "        [-0.37686461,  2.5451963 , -1.33331205, -1.31260282],\n",
       "        [ 0.23261993, -0.13788033,  0.61508092,  0.8231577 ],\n",
       "        [-0.01117388, -0.80864948,  0.78699794,  0.95664273],\n",
       "        [ 0.23261993, -1.92659808,  0.15663551, -0.24472256],\n",
       "        [-0.49876152, -0.13788033,  0.44316389,  0.4227026 ],\n",
       "        [ 0.47641375,  0.75647855,  0.95891497,  1.49058286],\n",
       "        [-0.37686461, -1.70300836,  0.15663551,  0.15573254],\n",
       "        [-0.49876152,  1.87442714, -1.16139502, -1.04563275],\n",
       "        [-0.98634915, -1.70300836, -0.24450422, -0.24472256],\n",
       "        [ 0.72020757, -0.80864948,  0.90160929,  0.95664273],\n",
       "        [-0.98634915,  0.53288883, -1.33331205, -1.31260282],\n",
       "        [-0.98634915,  0.30929911, -1.4479234 , -1.31260282],\n",
       "        [-0.37686461, -1.47941864,  0.04202416, -0.11123753],\n",
       "        [ 1.08589829, -0.13788033,  0.72969227,  0.68967267],\n",
       "        [-1.10824606,  0.08570939, -1.27600637, -1.31260282],\n",
       "        [-0.01117388, -0.58505976,  0.78699794,  1.62406789],\n",
       "        [-0.98634915,  0.75647855, -1.27600637, -1.31260282],\n",
       "        [-0.98634915,  0.98006827, -1.2187007 , -0.77866269],\n",
       "        [ 0.11072303,  0.30929911,  0.61508092,  0.8231577 ],\n",
       "        [-0.86445224, -1.25582892, -0.41642124, -0.11123753],\n",
       "        [ 1.32969211,  0.30929911,  1.130832  ,  1.49058286],\n",
       "        [ 0.23261993, -0.80864948,  0.78699794,  0.55618763],\n",
       "        [ 0.35451684, -1.0322392 ,  1.07352632,  0.28921757],\n",
       "        [ 2.30486738, -0.13788033,  1.3600547 ,  1.49058286],\n",
       "        [-0.37686461, -1.25582892,  0.15663551,  0.15573254],\n",
       "        [-1.7177306 , -0.36147005, -1.33331205, -1.31260282],\n",
       "        [-1.83962751, -0.13788033, -1.50522907, -1.44608785],\n",
       "        [ 0.23261993, -1.92659808,  0.72969227,  0.4227026 ],\n",
       "        [ 1.69538284,  0.30929911,  1.30274902,  0.8231577 ],\n",
       "        [-1.47393679,  0.08570939, -1.27600637, -1.31260282],\n",
       "        [-0.86445224,  0.98006827, -1.33331205, -1.17911778],\n",
       "        [-1.7177306 , -0.13788033, -1.39061772, -1.31260282],\n",
       "        [ 0.59831066, -1.25582892,  0.67238659,  0.4227026 ],\n",
       "        [ 0.59831066,  0.75647855,  1.07352632,  1.62406789],\n",
       "        [-1.47393679,  0.75647855, -1.33331205, -1.17911778],\n",
       "        [ 1.2077952 , -0.13788033,  1.01622064,  1.22361279],\n",
       "        [ 0.59831066,  0.53288883,  1.30274902,  1.75755292],\n",
       "        [-1.35203988,  0.30929911, -1.39061772, -1.31260282],\n",
       "        [ 0.35451684, -0.36147005,  0.55777524,  0.28921757],\n",
       "        [ 0.84210448, -0.58505976,  0.50046957,  0.4227026 ],\n",
       "        [ 0.47641375, -0.58505976,  0.61508092,  0.8231577 ],\n",
       "        [ 1.45158902,  0.30929911,  0.55777524,  0.28921757],\n",
       "        [ 0.72020757,  0.30929911,  0.90160929,  1.49058286],\n",
       "        [-0.86445224,  1.65083742, -1.2187007 , -1.31260282],\n",
       "        [ 1.32969211,  0.08570939,  0.95891497,  1.22361279],\n",
       "        [ 0.11072303, -0.13788033,  0.27124686,  0.4227026 ],\n",
       "        [ 0.84210448, -0.13788033,  0.84430362,  1.09012776],\n",
       "        [-0.13307079, -1.0322392 , -0.12989286, -0.24472256],\n",
       "        [-0.74255534, -0.80864948,  0.09932984,  0.28921757],\n",
       "        [ 0.35451684, -0.13788033,  0.50046957,  0.28921757],\n",
       "        [-1.5958337 , -1.70300836, -1.39061772, -1.17911778],\n",
       "        [ 0.96400139, -0.36147005,  0.50046957,  0.15573254],\n",
       "        [-0.37686461, -1.0322392 ,  0.38585821,  0.02224751],\n",
       "        [-0.62065843,  1.4272477 , -1.27600637, -1.31260282],\n",
       "        [-0.2549677 , -0.13788033,  0.21394119,  0.15573254],\n",
       "        [ 1.81727975, -0.36147005,  1.47466605,  0.8231577 ],\n",
       "        [ 1.08589829,  0.53288883,  1.130832  ,  1.22361279],\n",
       "        [-0.86445224,  1.4272477 , -1.27600637, -1.04563275],\n",
       "        [-1.10824606, -1.47941864, -0.24450422, -0.24472256],\n",
       "        [ 1.08589829,  0.53288883,  1.130832  ,  1.75755292],\n",
       "        [ 1.69538284, -0.13788033,  1.18813767,  0.55618763],\n",
       "        [-1.10824606,  1.20365799, -1.33331205, -1.44608785],\n",
       "        [ 1.08589829,  0.08570939,  1.07352632,  1.62406789],\n",
       "        [-1.10824606, -0.13788033, -1.33331205, -1.31260282],\n",
       "        [ 1.32969211,  0.08570939,  0.67238659,  0.4227026 ],\n",
       "        [ 1.93917666, -0.58505976,  1.3600547 ,  0.95664273],\n",
       "        [ 0.59831066, -0.36147005,  1.07352632,  0.8231577 ],\n",
       "        [-0.13307079, -0.58505976,  0.21394119,  0.15573254],\n",
       "        [ 0.84210448, -0.13788033,  1.01622064,  0.8231577 ],\n",
       "        [ 0.59831066, -1.70300836,  0.38585821,  0.15573254],\n",
       "        [ 0.72020757, -0.36147005,  0.32855254,  0.15573254],\n",
       "        [-0.2549677 , -0.58505976,  0.67238659,  1.09012776],\n",
       "        [ 0.11072303, -0.13788033,  0.78699794,  0.8231577 ],\n",
       "        [-0.49876152,  0.75647855, -1.16139502, -1.31260282],\n",
       "        [ 0.35451684, -0.58505976,  0.15663551,  0.15573254],\n",
       "        [-1.10824606, -1.25582892,  0.44316389,  0.68967267],\n",
       "        [-0.01117388,  2.09801686, -1.4479234 , -1.31260282],\n",
       "        [-0.01117388, -1.0322392 ,  0.15663551,  0.02224751],\n",
       "        [ 1.57348593, -0.13788033,  1.24544335,  1.22361279]]),\n",
       " array([[ 0.35451684, -0.58505976,  0.55777524,  0.02224751],\n",
       "        [-0.13307079,  1.65083742, -1.16139502, -1.17911778],\n",
       "        [ 2.30486738, -1.0322392 ,  1.8185001 ,  1.49058286],\n",
       "        [ 0.23261993, -0.36147005,  0.44316389,  0.4227026 ],\n",
       "        [ 1.2077952 , -0.58505976,  0.61508092,  0.28921757],\n",
       "        [-0.49876152,  0.75647855, -1.27600637, -1.04563275],\n",
       "        [-0.2549677 , -0.36147005, -0.07258719,  0.15573254],\n",
       "        [ 1.32969211,  0.08570939,  0.78699794,  1.49058286],\n",
       "        [ 0.47641375, -1.92659808,  0.44316389,  0.4227026 ],\n",
       "        [-0.01117388, -0.80864948,  0.09932984,  0.02224751],\n",
       "        [ 0.84210448,  0.30929911,  0.78699794,  1.09012776],\n",
       "        [-1.23014297, -0.13788033, -1.33331205, -1.44608785],\n",
       "        [-0.37686461,  0.98006827, -1.39061772, -1.31260282],\n",
       "        [-1.10824606,  0.08570939, -1.27600637, -1.44608785],\n",
       "        [-0.86445224,  1.65083742, -1.27600637, -1.17911778],\n",
       "        [ 0.59831066,  0.53288883,  0.55777524,  0.55618763],\n",
       "        [ 0.84210448, -0.13788033,  1.18813767,  1.35709783],\n",
       "        [-0.2549677 , -1.25582892,  0.09932984, -0.11123753],\n",
       "        [-0.13307079, -0.58505976,  0.44316389,  0.15573254],\n",
       "        [ 0.72020757, -0.58505976,  1.07352632,  1.35709783],\n",
       "        [-1.35203988,  0.30929911, -1.2187007 , -1.31260282],\n",
       "        [ 0.35451684, -0.13788033,  0.67238659,  0.8231577 ],\n",
       "        [-0.98634915,  0.75647855, -1.2187007 , -1.04563275],\n",
       "        [ 0.72020757, -0.58505976,  1.07352632,  1.22361279],\n",
       "        [ 2.5486612 ,  1.65083742,  1.53197172,  1.09012776],\n",
       "        [ 1.08589829, -0.13788033,  0.84430362,  1.49058286],\n",
       "        [ 1.08589829, -1.25582892,  1.18813767,  0.8231577 ],\n",
       "        [ 1.2077952 ,  0.30929911,  1.24544335,  1.49058286],\n",
       "        [-1.23014297, -0.13788033, -1.33331205, -1.17911778],\n",
       "        [-1.23014297,  0.08570939, -1.2187007 , -1.31260282]]))"
      ]
     },
     "execution_count": 22,
     "metadata": {},
     "output_type": "execute_result"
    }
   ],
   "source": [
    "X_train_scaled, X_test_scaled"
   ]
  },
  {
   "cell_type": "markdown",
   "id": "e28b7e76",
   "metadata": {},
   "source": [
    "## Creating Model"
   ]
  },
  {
   "cell_type": "code",
   "execution_count": 23,
   "id": "035f0ff5",
   "metadata": {
    "execution": {
     "iopub.execute_input": "2023-08-26T08:44:55.154307Z",
     "iopub.status.busy": "2023-08-26T08:44:55.153748Z",
     "iopub.status.idle": "2023-08-26T08:44:55.165180Z",
     "shell.execute_reply": "2023-08-26T08:44:55.164295Z"
    },
    "papermill": {
     "duration": 0.031576,
     "end_time": "2023-08-26T08:44:55.167052",
     "exception": false,
     "start_time": "2023-08-26T08:44:55.135476",
     "status": "completed"
    },
    "tags": []
   },
   "outputs": [
    {
     "data": {
      "text/plain": [
       "KNeighborsClassifier(n_neighbors=3)"
      ]
     },
     "execution_count": 23,
     "metadata": {},
     "output_type": "execute_result"
    }
   ],
   "source": [
    "# Create a KNN classifier\n",
    "\n",
    "knn = KNeighborsClassifier(n_neighbors=3)\n",
    "knn"
   ]
  },
  {
   "cell_type": "code",
   "execution_count": 24,
   "id": "61cf9b7a",
   "metadata": {
    "execution": {
     "iopub.execute_input": "2023-08-26T08:44:55.203468Z",
     "iopub.status.busy": "2023-08-26T08:44:55.202846Z",
     "iopub.status.idle": "2023-08-26T08:44:55.211331Z",
     "shell.execute_reply": "2023-08-26T08:44:55.210382Z"
    },
    "papermill": {
     "duration": 0.02884,
     "end_time": "2023-08-26T08:44:55.213435",
     "exception": false,
     "start_time": "2023-08-26T08:44:55.184595",
     "status": "completed"
    },
    "tags": []
   },
   "outputs": [
    {
     "data": {
      "text/plain": [
       "KNeighborsClassifier(n_neighbors=3)"
      ]
     },
     "execution_count": 24,
     "metadata": {},
     "output_type": "execute_result"
    }
   ],
   "source": [
    "# Train the model\n",
    "\n",
    "knn.fit(X_train_scaled, y_train)"
   ]
  },
  {
   "cell_type": "code",
   "execution_count": 25,
   "id": "04070fe9",
   "metadata": {
    "execution": {
     "iopub.execute_input": "2023-08-26T08:44:55.250352Z",
     "iopub.status.busy": "2023-08-26T08:44:55.249975Z",
     "iopub.status.idle": "2023-08-26T08:44:55.257286Z",
     "shell.execute_reply": "2023-08-26T08:44:55.256548Z"
    },
    "papermill": {
     "duration": 0.027951,
     "end_time": "2023-08-26T08:44:55.259434",
     "exception": false,
     "start_time": "2023-08-26T08:44:55.231483",
     "status": "completed"
    },
    "tags": []
   },
   "outputs": [],
   "source": [
    "# Make predictions\n",
    "\n",
    "y_pred = knn.predict(X_test_scaled)"
   ]
  },
  {
   "cell_type": "markdown",
   "id": "0d47b482",
   "metadata": {},
   "source": [
    "## Evaluation"
   ]
  },
  {
   "cell_type": "code",
   "execution_count": 26,
   "id": "c0a1941a",
   "metadata": {
    "execution": {
     "iopub.execute_input": "2023-08-26T08:44:55.297010Z",
     "iopub.status.busy": "2023-08-26T08:44:55.296661Z",
     "iopub.status.idle": "2023-08-26T08:44:55.310456Z",
     "shell.execute_reply": "2023-08-26T08:44:55.309588Z"
    },
    "papermill": {
     "duration": 0.034856,
     "end_time": "2023-08-26T08:44:55.312383",
     "exception": false,
     "start_time": "2023-08-26T08:44:55.277527",
     "status": "completed"
    },
    "tags": []
   },
   "outputs": [
    {
     "name": "stdout",
     "output_type": "stream",
     "text": [
      "              precision    recall  f1-score   support\n",
      "\n",
      "           0       1.00      1.00      1.00        10\n",
      "           1       1.00      1.00      1.00         9\n",
      "           2       1.00      1.00      1.00        11\n",
      "\n",
      "    accuracy                           1.00        30\n",
      "   macro avg       1.00      1.00      1.00        30\n",
      "weighted avg       1.00      1.00      1.00        30\n",
      "\n"
     ]
    }
   ],
   "source": [
    "# Convert unique species names to a list of strings\n",
    "\n",
    "species_names = df['species'].unique().astype(str).tolist()\n",
    "\n",
    "# Evaluate the model\n",
    "\n",
    "report = classification_report(y_test, y_pred, target_names=species_names)\n",
    "print(report)\n"
   ]
  }
 ],
 "metadata": {
  "kernelspec": {
   "display_name": "Python 3 (ipykernel)",
   "language": "python",
   "name": "python3"
  },
  "language_info": {
   "codemirror_mode": {
    "name": "ipython",
    "version": 3
   },
   "file_extension": ".py",
   "mimetype": "text/x-python",
   "name": "python",
   "nbconvert_exporter": "python",
   "pygments_lexer": "ipython3",
   "version": "3.9.7"
  },
  "papermill": {
   "default_parameters": {},
   "duration": 17.014995,
   "end_time": "2023-08-26T08:44:56.251263",
   "environment_variables": {},
   "exception": null,
   "input_path": "__notebook__.ipynb",
   "output_path": "__notebook__.ipynb",
   "parameters": {},
   "start_time": "2023-08-26T08:44:39.236268",
   "version": "2.4.0"
  }
 },
 "nbformat": 4,
 "nbformat_minor": 5
}
