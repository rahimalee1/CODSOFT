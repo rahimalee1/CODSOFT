{
 "cells": [
  {
   "cell_type": "markdown",
   "id": "d19d399b",
   "metadata": {},
   "source": [
    "# TASK#1  TITANIC SURVIVAL PREDICTION"
   ]
  },
  {
   "cell_type": "markdown",
   "id": "c35435ae",
   "metadata": {},
   "source": [
    "TITANIC SURVIVAL PREDICTION\n"
   ]
  },
  {
   "cell_type": "markdown",
   "id": "f453d670",
   "metadata": {},
   "source": [
    "Author : Muhammad Rahim\n",
    "\n",
    "Batch  : October\n",
    "\n",
    "Domain : Data Science"
   ]
  },
  {
   "cell_type": "markdown",
   "id": "38ac772a",
   "metadata": {},
   "source": [
    "## Importing necessary libraries"
   ]
  },
  {
   "cell_type": "code",
   "execution_count": null,
   "id": "87c0e1e8",
   "metadata": {
    "_cell_guid": "b1076dfc-b9ad-4769-8c92-a6c4dae69d19",
    "_uuid": "8f2839f25d086af736a60e9eeb907d3b93b6e0e5",
    "execution": {
     "iopub.execute_input": "2023-09-06T17:55:52.701689Z",
     "iopub.status.busy": "2023-09-06T17:55:52.701291Z",
     "iopub.status.idle": "2023-09-06T17:55:55.259634Z",
     "shell.execute_reply": "2023-09-06T17:55:55.258540Z"
    },
    "papermill": {
     "duration": 2.587528,
     "end_time": "2023-09-06T17:55:55.262869",
     "exception": false,
     "start_time": "2023-09-06T17:55:52.675341",
     "status": "completed"
    },
    "tags": []
   },
   "outputs": [],
   "source": [
    "import numpy as np\n",
    "import pandas as pd\n",
    "import matplotlib.pyplot as plt\n",
    "import seaborn as sns\n",
    "from sklearn.preprocessing import MinMaxScaler\n",
    "\n",
    "from sklearn.linear_model import LinearRegression\n",
    "from sklearn.ensemble import RandomForestClassifier\n",
    "from sklearn.ensemble import RandomForestClassifier, GradientBoostingClassifier\n",
    "from sklearn.linear_model import LogisticRegression\n",
    "from sklearn.model_selection import train_test_split\n",
    "from sklearn.metrics import accuracy_score\n",
    "\n",
    "from sklearn.metrics import confusion_matrix, classification_report"
   ]
  },
  {
   "cell_type": "markdown",
   "id": "95879878",
   "metadata": {
    "papermill": {
     "duration": 0.023026,
     "end_time": "2023-09-06T17:55:55.309348",
     "exception": false,
     "start_time": "2023-09-06T17:55:55.286322",
     "status": "completed"
    },
    "tags": []
   },
   "source": [
    "## Functions"
   ]
  },
  {
   "cell_type": "code",
   "execution_count": null,
   "id": "ffb51bd8",
   "metadata": {
    "execution": {
     "iopub.execute_input": "2023-09-06T17:55:55.357057Z",
     "iopub.status.busy": "2023-09-06T17:55:55.356499Z",
     "iopub.status.idle": "2023-09-06T17:55:55.366112Z",
     "shell.execute_reply": "2023-09-06T17:55:55.365023Z"
    },
    "papermill": {
     "duration": 0.03623,
     "end_time": "2023-09-06T17:55:55.368496",
     "exception": false,
     "start_time": "2023-09-06T17:55:55.332266",
     "status": "completed"
    },
    "tags": []
   },
   "outputs": [],
   "source": [
    "def histogram_rep(df,col_name, total_rows,x_label, x_labels, title, figsize):\n",
    "    numeric_data = pd.to_numeric(df[col_name], errors='coerce')\n",
    "    nan_count = numeric_data.isnull().sum()\n",
    "    percentage_non_numeric = (nan_count / total_rows) * 100\n",
    "    print(f\"Percentage of non-numerical values in the '{col_name}' column: {percentage_non_numeric:.2f}%\")\n",
    "\n",
    "    # Get unique values in the 'previous' column\n",
    "    unique_values = df[col_name].unique()\n",
    "    print(\"Unique values in '{col_name}' column:\")\n",
    "    \n",
    "    # Calculate the percentage of each unique value\n",
    "    percentage_values = []\n",
    "    for value in unique_values:\n",
    "        count = (df[col_name] == value).sum()\n",
    "        percentage = (count / total_rows) * 100\n",
    "        percentage_values.append(percentage)\n",
    "        print(f\"Value: {value}, Percentage: {percentage:.2f}%\")\n",
    "        \n",
    "    # Create a histogram\n",
    "    plt.figure(figsize=figsize)\n",
    "    plt.bar(unique_values, percentage_values)\n",
    "    plt.xlabel(x_label)\n",
    "    plt.ylabel('Percentage')\n",
    "    plt.title(title)\n",
    "    plt.xticks(unique_values, x_labels)\n",
    "    plt.show()"
   ]
  },
  {
   "cell_type": "code",
   "execution_count": null,
   "id": "85a581b7",
   "metadata": {
    "execution": {
     "iopub.execute_input": "2023-09-06T17:55:55.415826Z",
     "iopub.status.busy": "2023-09-06T17:55:55.415361Z",
     "iopub.status.idle": "2023-09-06T17:55:55.422576Z",
     "shell.execute_reply": "2023-09-06T17:55:55.421406Z"
    },
    "papermill": {
     "duration": 0.033553,
     "end_time": "2023-09-06T17:55:55.424880",
     "exception": false,
     "start_time": "2023-09-06T17:55:55.391327",
     "status": "completed"
    },
    "tags": []
   },
   "outputs": [],
   "source": [
    "def survival_percentage(data, column_name):\n",
    "    unique_values = data[column_name].unique()\n",
    "    \n",
    "    percentages = {}\n",
    "    \n",
    "    for value in unique_values:\n",
    "        subset = data[data[column_name] == value]\n",
    "        survived_count = subset[\"Survived\"].sum()\n",
    "        total_count = len(subset)\n",
    "        if total_count > 0:\n",
    "            percentage = (survived_count / total_count) * 100\n",
    "            percentages[value] = percentage\n",
    "    \n",
    "    return percentages\n"
   ]
  },
  {
   "cell_type": "code",
   "execution_count": null,
   "id": "da8dbd9a",
   "metadata": {
    "execution": {
     "iopub.execute_input": "2023-09-06T17:55:55.473201Z",
     "iopub.status.busy": "2023-09-06T17:55:55.472803Z",
     "iopub.status.idle": "2023-09-06T17:55:55.484073Z",
     "shell.execute_reply": "2023-09-06T17:55:55.483031Z"
    },
    "papermill": {
     "duration": 0.038204,
     "end_time": "2023-09-06T17:55:55.486322",
     "exception": false,
     "start_time": "2023-09-06T17:55:55.448118",
     "status": "completed"
    },
    "tags": []
   },
   "outputs": [],
   "source": [
    "def survival_percentage_continuous(data, column_name, num_bins=None, bin_labels=None):\n",
    "    if num_bins is None:\n",
    "        num_bins = 10  # Default number of bins if not specified\n",
    "    \n",
    "    if bin_labels is None:\n",
    "        bin_labels = [f'Bin {i+1}' for i in range(num_bins)]  # Default bin labels\n",
    "    \n",
    "    # Create bins for the specified column\n",
    "    data['bins'] = pd.cut(data[column_name], bins=num_bins, labels=bin_labels)\n",
    "    \n",
    "    # Calculate survival percentages for each bin\n",
    "    bin_percentages = {}\n",
    "    \n",
    "    for bin_label in bin_labels:\n",
    "        subset = data[data['bins'] == bin_label]\n",
    "        survived_count = subset['Survived'].sum()\n",
    "        total_count = len(subset)\n",
    "        \n",
    "        if total_count > 0:\n",
    "            percentage = (survived_count / total_count) * 100\n",
    "            bin_percentages[bin_label] = percentage\n",
    "    \n",
    "    # Remove the 'bins' column from the DataFrame (optional)\n",
    "    data.drop(columns=['bins'], inplace=True)\n",
    "    \n",
    "    # Create a bar chart to visualize the survival percentages\n",
    "    plt.figure(figsize=(10, 6))\n",
    "    plt.bar(bin_percentages.keys(), bin_percentages.values(), color='skyblue')\n",
    "    plt.xlabel('Bins')\n",
    "    plt.ylabel('Survival Percentage (%)')\n",
    "    plt.title(f'Survival Percentage by {column_name}')\n",
    "    plt.xticks(rotation=45)\n",
    "    plt.grid(axis='y')\n",
    "    plt.show()\n",
    "    \n",
    "    return bin_percentages"
   ]
  },
  {
   "cell_type": "code",
   "execution_count": null,
   "id": "ddb86f9e",
   "metadata": {
    "execution": {
     "iopub.execute_input": "2023-09-06T17:55:55.534038Z",
     "iopub.status.busy": "2023-09-06T17:55:55.533650Z",
     "iopub.status.idle": "2023-09-06T17:55:55.542251Z",
     "shell.execute_reply": "2023-09-06T17:55:55.541224Z"
    },
    "papermill": {
     "duration": 0.035015,
     "end_time": "2023-09-06T17:55:55.544551",
     "exception": false,
     "start_time": "2023-09-06T17:55:55.509536",
     "status": "completed"
    },
    "tags": []
   },
   "outputs": [],
   "source": [
    "def draw_pie_chart(percentages):\n",
    "    labels = percentages.keys()\n",
    "    sizes = list(percentages.values())  # Convert dict_values to a list\n",
    "    \n",
    "    # Generate a list of shades of blue based on the number of categories\n",
    "    num_categories = len(labels)\n",
    "    colors = plt.cm.Blues(np.linspace(0.1, 1, num_categories))\n",
    "    \n",
    "    plt.figure(figsize=(8, 6))  # Adjust the figure size as needed\n",
    "    plt.pie(sizes, labels=None, colors=colors, autopct=lambda p: f'{p:.1f}%' if p > 0 else '', startangle=140)\n",
    "    plt.axis('equal')  # Equal aspect ratio ensures that pie is drawn as a circle.\n",
    "    plt.title('Survival Percentage by Category')\n",
    "    \n",
    "    # Add custom legend\n",
    "    legend_labels = [f'{label} ({sizes[i]:.1f}%)' for i, label in enumerate(labels) if sizes[i] > 0]\n",
    "    plt.legend(legend_labels, loc='best')\n",
    "    \n",
    "    plt.show()"
   ]
  },
  {
   "cell_type": "code",
   "execution_count": null,
   "id": "47b215ed",
   "metadata": {
    "execution": {
     "iopub.execute_input": "2023-09-06T17:55:55.592114Z",
     "iopub.status.busy": "2023-09-06T17:55:55.591738Z",
     "iopub.status.idle": "2023-09-06T17:55:55.597321Z",
     "shell.execute_reply": "2023-09-06T17:55:55.596268Z"
    },
    "papermill": {
     "duration": 0.032102,
     "end_time": "2023-09-06T17:55:55.599612",
     "exception": false,
     "start_time": "2023-09-06T17:55:55.567510",
     "status": "completed"
    },
    "tags": []
   },
   "outputs": [],
   "source": [
    "def find_between(s, first, last):\n",
    "    try:\n",
    "        start = s.index( first ) + len( first )\n",
    "        end = s.index( last, start )\n",
    "        return s[start:end]\n",
    "    except ValueError:\n",
    "        return \"\""
   ]
  },
  {
   "cell_type": "code",
   "execution_count": null,
   "id": "27c6374d",
   "metadata": {
    "execution": {
     "iopub.execute_input": "2023-09-06T17:55:55.646706Z",
     "iopub.status.busy": "2023-09-06T17:55:55.646294Z",
     "iopub.status.idle": "2023-09-06T17:55:55.653963Z",
     "shell.execute_reply": "2023-09-06T17:55:55.652865Z"
    },
    "papermill": {
     "duration": 0.033951,
     "end_time": "2023-09-06T17:55:55.656148",
     "exception": false,
     "start_time": "2023-09-06T17:55:55.622197",
     "status": "completed"
    },
    "tags": []
   },
   "outputs": [],
   "source": [
    "def percent(col_name, total_rows):\n",
    "    numeric_data = pd.to_numeric(df[col_name], errors='coerce')\n",
    "    nan_count = numeric_data.isnull().sum()\n",
    "    percentage_non_numeric = (nan_count / total_rows) * 100\n",
    "    print(f\"Percentage of non-numerical values in the '{col_name}' column: {percentage_non_numeric:.2f}%\")\n",
    "\n",
    "    # Get unique values in the 'previous' column\n",
    "    unique_values = df[col_name].unique()\n",
    "    print(\"Unique values in '{col_name}' column:\")\n",
    "    \n",
    "    # Calculate the percentage of each unique value\n",
    "    percentage_values = []\n",
    "    for value in unique_values:\n",
    "        count = (df[col_name] == value).sum()\n",
    "        percentage = (count / total_rows) * 100\n",
    "        percentage_values.append(percentage)\n",
    "        print(f\"Value: {value}, Percentage: {percentage:.2f}%\")"
   ]
  },
  {
   "cell_type": "code",
   "execution_count": null,
   "id": "5b5c9c0e",
   "metadata": {
    "execution": {
     "iopub.execute_input": "2023-09-06T17:55:55.703837Z",
     "iopub.status.busy": "2023-09-06T17:55:55.702803Z",
     "iopub.status.idle": "2023-09-06T17:55:55.708885Z",
     "shell.execute_reply": "2023-09-06T17:55:55.707979Z"
    },
    "papermill": {
     "duration": 0.03227,
     "end_time": "2023-09-06T17:55:55.711146",
     "exception": false,
     "start_time": "2023-09-06T17:55:55.678876",
     "status": "completed"
    },
    "tags": []
   },
   "outputs": [],
   "source": [
    "def get_null_percentage(dataframe):\n",
    "    # Calculate the total number of rows in the DataFrame\n",
    "    total_rows = len(dataframe)\n",
    "    \n",
    "    # Calculate the percentage of null values for each feature\n",
    "    null_percentage = (dataframe.isnull().sum() / total_rows) * 100\n",
    "    \n",
    "    return null_percentage"
   ]
  },
  {
   "cell_type": "code",
   "execution_count": null,
   "id": "1a46a2d3",
   "metadata": {
    "execution": {
     "iopub.execute_input": "2023-09-06T17:55:55.759581Z",
     "iopub.status.busy": "2023-09-06T17:55:55.759164Z",
     "iopub.status.idle": "2023-09-06T17:55:55.764961Z",
     "shell.execute_reply": "2023-09-06T17:55:55.763827Z"
    },
    "papermill": {
     "duration": 0.032389,
     "end_time": "2023-09-06T17:55:55.767359",
     "exception": false,
     "start_time": "2023-09-06T17:55:55.734970",
     "status": "completed"
    },
    "tags": []
   },
   "outputs": [],
   "source": [
    "# Define a function to extract the ticket category\n",
    "def extract_ticket_category(ticket):\n",
    "    if pd.isna(ticket):\n",
    "        return None\n",
    "    elif ' ' in ticket:\n",
    "        return ticket.split(' ')[0]\n",
    "    else:\n",
    "        return 'Normal'"
   ]
  },
  {
   "cell_type": "code",
   "execution_count": null,
   "id": "10c5d987",
   "metadata": {
    "execution": {
     "iopub.execute_input": "2023-09-06T17:55:55.872276Z",
     "iopub.status.busy": "2023-09-06T17:55:55.871904Z",
     "iopub.status.idle": "2023-09-06T17:55:55.877542Z",
     "shell.execute_reply": "2023-09-06T17:55:55.876508Z"
    },
    "papermill": {
     "duration": 0.089849,
     "end_time": "2023-09-06T17:55:55.879820",
     "exception": false,
     "start_time": "2023-09-06T17:55:55.789971",
     "status": "completed"
    },
    "tags": []
   },
   "outputs": [],
   "source": [
    "def fill_null_with_mode(dataframe, column_name):\n",
    "    # Calculate the mode of the column\n",
    "    mode_value = dataframe[column_name].mode().iloc[0]\n",
    "    \n",
    "    # Fill null values with the mode\n",
    "    dataframe[column_name].fillna(mode_value, inplace=True)"
   ]
  },
  {
   "cell_type": "markdown",
   "id": "ac31396e",
   "metadata": {
    "papermill": {
     "duration": 0.022666,
     "end_time": "2023-09-06T17:55:55.925467",
     "exception": false,
     "start_time": "2023-09-06T17:55:55.902801",
     "status": "completed"
    },
    "tags": []
   },
   "source": [
    "## Loading Dataset"
   ]
  },
  {
   "cell_type": "code",
   "execution_count": null,
   "id": "a41ce20b",
   "metadata": {
    "execution": {
     "iopub.execute_input": "2023-09-06T17:55:55.973796Z",
     "iopub.status.busy": "2023-09-06T17:55:55.973368Z",
     "iopub.status.idle": "2023-09-06T17:55:56.002625Z",
     "shell.execute_reply": "2023-09-06T17:55:56.001657Z"
    },
    "papermill": {
     "duration": 0.057019,
     "end_time": "2023-09-06T17:55:56.005335",
     "exception": false,
     "start_time": "2023-09-06T17:55:55.948316",
     "status": "completed"
    },
    "tags": []
   },
   "outputs": [],
   "source": [
    "df = pd.read_csv('tested.csv')"
   ]
  },
  {
   "cell_type": "markdown",
   "id": "9105bd5e",
   "metadata": {
    "papermill": {
     "duration": 0.022543,
     "end_time": "2023-09-06T17:55:56.051160",
     "exception": false,
     "start_time": "2023-09-06T17:55:56.028617",
     "status": "completed"
    },
    "tags": []
   },
   "source": [
    "## Exploratory Data Analysis"
   ]
  },
  {
   "cell_type": "code",
   "execution_count": null,
   "id": "fceaa7f6",
   "metadata": {
    "execution": {
     "iopub.execute_input": "2023-09-06T17:55:56.099379Z",
     "iopub.status.busy": "2023-09-06T17:55:56.098336Z",
     "iopub.status.idle": "2023-09-06T17:55:56.124664Z",
     "shell.execute_reply": "2023-09-06T17:55:56.123468Z"
    },
    "papermill": {
     "duration": 0.053569,
     "end_time": "2023-09-06T17:55:56.127735",
     "exception": false,
     "start_time": "2023-09-06T17:55:56.074166",
     "status": "completed"
    },
    "tags": []
   },
   "outputs": [],
   "source": [
    "print(df.head)"
   ]
  },
  {
   "cell_type": "code",
   "execution_count": null,
   "id": "f88164a2",
   "metadata": {
    "execution": {
     "iopub.execute_input": "2023-09-06T17:55:56.176146Z",
     "iopub.status.busy": "2023-09-06T17:55:56.175739Z",
     "iopub.status.idle": "2023-09-06T17:55:56.214241Z",
     "shell.execute_reply": "2023-09-06T17:55:56.213092Z"
    },
    "papermill": {
     "duration": 0.065919,
     "end_time": "2023-09-06T17:55:56.216884",
     "exception": false,
     "start_time": "2023-09-06T17:55:56.150965",
     "status": "completed"
    },
    "tags": []
   },
   "outputs": [],
   "source": [
    "df.describe()"
   ]
  },
  {
   "cell_type": "code",
   "execution_count": null,
   "id": "2a26ffe0",
   "metadata": {
    "execution": {
     "iopub.execute_input": "2023-09-06T17:55:56.267468Z",
     "iopub.status.busy": "2023-09-06T17:55:56.267016Z",
     "iopub.status.idle": "2023-09-06T17:55:56.281464Z",
     "shell.execute_reply": "2023-09-06T17:55:56.280423Z"
    },
    "papermill": {
     "duration": 0.043124,
     "end_time": "2023-09-06T17:55:56.284202",
     "exception": false,
     "start_time": "2023-09-06T17:55:56.241078",
     "status": "completed"
    },
    "tags": []
   },
   "outputs": [],
   "source": [
    "print(df.info)"
   ]
  },
  {
   "cell_type": "code",
   "execution_count": null,
   "id": "6bcfb094",
   "metadata": {
    "execution": {
     "iopub.execute_input": "2023-09-06T17:55:56.333449Z",
     "iopub.status.busy": "2023-09-06T17:55:56.333009Z",
     "iopub.status.idle": "2023-09-06T17:55:56.346226Z",
     "shell.execute_reply": "2023-09-06T17:55:56.345219Z"
    },
    "papermill": {
     "duration": 0.040626,
     "end_time": "2023-09-06T17:55:56.348573",
     "exception": false,
     "start_time": "2023-09-06T17:55:56.307947",
     "status": "completed"
    },
    "tags": []
   },
   "outputs": [],
   "source": [
    "features = ['Pclass','Name', 'Sex', 'Age', 'SibSp', 'Parch', 'Ticket', 'Fare', 'Cabin', 'Embarked','Survived']\n",
    "null_percentage = get_null_percentage(df[features])\n",
    "\n",
    "# Print the null percentage for each feature\n",
    "print(\"Percentage of null values for each feature:\")\n",
    "print(null_percentage,\"%\")"
   ]
  },
  {
   "cell_type": "code",
   "execution_count": null,
   "id": "86511925",
   "metadata": {
    "execution": {
     "iopub.execute_input": "2023-09-06T17:55:56.398247Z",
     "iopub.status.busy": "2023-09-06T17:55:56.397845Z",
     "iopub.status.idle": "2023-09-06T17:55:56.406361Z",
     "shell.execute_reply": "2023-09-06T17:55:56.405256Z"
    },
    "papermill": {
     "duration": 0.036204,
     "end_time": "2023-09-06T17:55:56.408839",
     "exception": false,
     "start_time": "2023-09-06T17:55:56.372635",
     "status": "completed"
    },
    "tags": []
   },
   "outputs": [],
   "source": [
    "df.drop(columns=['Cabin'], inplace=True)\n",
    "df.drop(columns=['Age'], inplace=True)"
   ]
  },
  {
   "cell_type": "code",
   "execution_count": null,
   "id": "b720525f",
   "metadata": {
    "execution": {
     "iopub.execute_input": "2023-09-06T17:55:56.458525Z",
     "iopub.status.busy": "2023-09-06T17:55:56.458092Z",
     "iopub.status.idle": "2023-09-06T17:55:56.465010Z",
     "shell.execute_reply": "2023-09-06T17:55:56.463764Z"
    },
    "papermill": {
     "duration": 0.034567,
     "end_time": "2023-09-06T17:55:56.467325",
     "exception": false,
     "start_time": "2023-09-06T17:55:56.432758",
     "status": "completed"
    },
    "tags": []
   },
   "outputs": [],
   "source": [
    "# Remove 'Cabin' and 'Age' from the features list in one line\n",
    "features = [feature for feature in features if feature not in ['Cabin', 'Age']]\n",
    "\n",
    "# Print the updated features list\n",
    "print(features)"
   ]
  },
  {
   "cell_type": "markdown",
   "id": "8f843c86",
   "metadata": {},
   "source": [
    "## Data Visualization"
   ]
  },
  {
   "cell_type": "markdown",
   "id": "7d903ed3",
   "metadata": {
    "papermill": {
     "duration": 0.024465,
     "end_time": "2023-09-06T17:55:56.516301",
     "exception": false,
     "start_time": "2023-09-06T17:55:56.491836",
     "status": "completed"
    },
    "tags": []
   },
   "source": [
    "### 1- Sex"
   ]
  },
  {
   "cell_type": "code",
   "execution_count": null,
   "id": "94f247f3",
   "metadata": {
    "execution": {
     "iopub.execute_input": "2023-09-06T17:55:56.566101Z",
     "iopub.status.busy": "2023-09-06T17:55:56.565711Z",
     "iopub.status.idle": "2023-09-06T17:55:56.785559Z",
     "shell.execute_reply": "2023-09-06T17:55:56.783846Z"
    },
    "papermill": {
     "duration": 0.249524,
     "end_time": "2023-09-06T17:55:56.789825",
     "exception": false,
     "start_time": "2023-09-06T17:55:56.540301",
     "status": "completed"
    },
    "tags": []
   },
   "outputs": [],
   "source": [
    "sex_result = survival_percentage(df, \"Sex\")\n",
    "\n",
    "for key, value in sex_result.items():\n",
    "    print(f\"precentage of {key} who survived: {value:.2f}%\")\n",
    "    \n",
    "draw_pie_chart(sex_result)"
   ]
  },
  {
   "cell_type": "markdown",
   "id": "20eacc0c",
   "metadata": {
    "papermill": {
     "duration": 0.024307,
     "end_time": "2023-09-06T17:55:56.853563",
     "exception": false,
     "start_time": "2023-09-06T17:55:56.829256",
     "status": "completed"
    },
    "tags": []
   },
   "source": [
    "##### Thearfore, included"
   ]
  },
  {
   "cell_type": "markdown",
   "id": "0be23142",
   "metadata": {
    "papermill": {
     "duration": 0.025424,
     "end_time": "2023-09-06T17:55:56.904046",
     "exception": false,
     "start_time": "2023-09-06T17:55:56.878622",
     "status": "completed"
    },
    "tags": []
   },
   "source": [
    "### 2- Name -> Title"
   ]
  },
  {
   "cell_type": "code",
   "execution_count": null,
   "id": "695b1ebd",
   "metadata": {
    "execution": {
     "iopub.execute_input": "2023-09-06T17:55:56.957563Z",
     "iopub.status.busy": "2023-09-06T17:55:56.956411Z",
     "iopub.status.idle": "2023-09-06T17:55:56.974080Z",
     "shell.execute_reply": "2023-09-06T17:55:56.972409Z"
    },
    "papermill": {
     "duration": 0.046548,
     "end_time": "2023-09-06T17:55:56.976562",
     "exception": false,
     "start_time": "2023-09-06T17:55:56.930014",
     "status": "completed"
    },
    "tags": []
   },
   "outputs": [],
   "source": [
    "df['Title'] = df.apply(lambda row: find_between(row['Name'], \", \", \".\"), axis=1)\n",
    "features.append('Title')\n",
    "df.drop(columns=['Name'], inplace=True)\n",
    "print(df['Title'])"
   ]
  },
  {
   "cell_type": "code",
   "execution_count": null,
   "id": "e8f00b4a",
   "metadata": {
    "execution": {
     "iopub.execute_input": "2023-09-06T17:55:57.027882Z",
     "iopub.status.busy": "2023-09-06T17:55:57.027477Z",
     "iopub.status.idle": "2023-09-06T17:55:57.033129Z",
     "shell.execute_reply": "2023-09-06T17:55:57.031834Z"
    },
    "papermill": {
     "duration": 0.034675,
     "end_time": "2023-09-06T17:55:57.035823",
     "exception": false,
     "start_time": "2023-09-06T17:55:57.001148",
     "status": "completed"
    },
    "tags": []
   },
   "outputs": [],
   "source": [
    "# Remove 'Name' from the features list\n",
    "features.remove('Name')\n",
    "\n",
    "# Print the updated features list\n",
    "print(features)"
   ]
  },
  {
   "cell_type": "code",
   "execution_count": null,
   "id": "3f77f642",
   "metadata": {
    "execution": {
     "iopub.execute_input": "2023-09-06T17:55:57.087590Z",
     "iopub.status.busy": "2023-09-06T17:55:57.086789Z",
     "iopub.status.idle": "2023-09-06T17:55:57.392828Z",
     "shell.execute_reply": "2023-09-06T17:55:57.391914Z"
    },
    "papermill": {
     "duration": 0.334591,
     "end_time": "2023-09-06T17:55:57.395249",
     "exception": false,
     "start_time": "2023-09-06T17:55:57.060658",
     "status": "completed"
    },
    "tags": []
   },
   "outputs": [],
   "source": [
    "col_name = 'Title'\n",
    "x_label = 'Title'\n",
    "title = 'Titles percentages'\n",
    "figsize = (9, 3)\n",
    "x_labels = ['Mr', 'Mrs', 'Miss','Master','Ms','Col', 'Rev', 'Dr', 'Dona']\n",
    "\n",
    "histogram_rep(df,col_name, len(df), x_label, x_labels, title, figsize)"
   ]
  },
  {
   "cell_type": "code",
   "execution_count": null,
   "id": "48de395b",
   "metadata": {
    "execution": {
     "iopub.execute_input": "2023-09-06T17:55:57.448063Z",
     "iopub.status.busy": "2023-09-06T17:55:57.447662Z",
     "iopub.status.idle": "2023-09-06T17:55:57.750228Z",
     "shell.execute_reply": "2023-09-06T17:55:57.749115Z"
    },
    "papermill": {
     "duration": 0.331895,
     "end_time": "2023-09-06T17:55:57.752718",
     "exception": false,
     "start_time": "2023-09-06T17:55:57.420823",
     "status": "completed"
    },
    "tags": []
   },
   "outputs": [],
   "source": [
    "title_result = survival_percentage(df, \"Title\")\n",
    "\n",
    "for key, value in title_result.items():\n",
    "    print(f\"precentage of {key} who survived: {value:.2f}%\")\n",
    "    \n",
    "draw_pie_chart(title_result)        #others?????"
   ]
  },
  {
   "cell_type": "markdown",
   "id": "f1e00942",
   "metadata": {
    "papermill": {
     "duration": 0.025676,
     "end_time": "2023-09-06T17:55:57.804901",
     "exception": false,
     "start_time": "2023-09-06T17:55:57.779225",
     "status": "completed"
    },
    "tags": []
   },
   "source": [
    "##### Same as all 'female' survived in 'Sex' column\n",
    "##### So, this column won't be useful in our prediction\n",
    "##### Therefore, not included"
   ]
  },
  {
   "cell_type": "code",
   "execution_count": null,
   "id": "1d2befbf",
   "metadata": {
    "execution": {
     "iopub.execute_input": "2023-09-06T17:55:57.858582Z",
     "iopub.status.busy": "2023-09-06T17:55:57.858156Z",
     "iopub.status.idle": "2023-09-06T17:55:57.865709Z",
     "shell.execute_reply": "2023-09-06T17:55:57.864505Z"
    },
    "papermill": {
     "duration": 0.037846,
     "end_time": "2023-09-06T17:55:57.868552",
     "exception": false,
     "start_time": "2023-09-06T17:55:57.830706",
     "status": "completed"
    },
    "tags": []
   },
   "outputs": [],
   "source": [
    "df.drop(columns=['Title'], inplace=True)\n",
    "features.remove('Title')\n",
    "print(features)"
   ]
  },
  {
   "cell_type": "code",
   "execution_count": null,
   "id": "2958883f",
   "metadata": {
    "execution": {
     "iopub.execute_input": "2023-09-06T17:55:57.923202Z",
     "iopub.status.busy": "2023-09-06T17:55:57.922783Z",
     "iopub.status.idle": "2023-09-06T17:55:57.938774Z",
     "shell.execute_reply": "2023-09-06T17:55:57.937577Z"
    },
    "papermill": {
     "duration": 0.046173,
     "end_time": "2023-09-06T17:55:57.941138",
     "exception": false,
     "start_time": "2023-09-06T17:55:57.894965",
     "status": "completed"
    },
    "tags": []
   },
   "outputs": [],
   "source": [
    "df.head()"
   ]
  },
  {
   "cell_type": "markdown",
   "id": "1a7ee860",
   "metadata": {
    "papermill": {
     "duration": 0.026503,
     "end_time": "2023-09-06T17:55:57.995251",
     "exception": false,
     "start_time": "2023-09-06T17:55:57.968748",
     "status": "completed"
    },
    "tags": []
   },
   "source": [
    "### 3- Embarked"
   ]
  },
  {
   "cell_type": "code",
   "execution_count": null,
   "id": "4a82f003",
   "metadata": {
    "execution": {
     "iopub.execute_input": "2023-09-06T17:55:58.050299Z",
     "iopub.status.busy": "2023-09-06T17:55:58.049871Z",
     "iopub.status.idle": "2023-09-06T17:55:58.293295Z",
     "shell.execute_reply": "2023-09-06T17:55:58.291940Z"
    },
    "papermill": {
     "duration": 0.274331,
     "end_time": "2023-09-06T17:55:58.296210",
     "exception": false,
     "start_time": "2023-09-06T17:55:58.021879",
     "status": "completed"
    },
    "tags": []
   },
   "outputs": [],
   "source": [
    "col_name = 'Embarked'\n",
    "x_label = 'Embarked'\n",
    "x_labels = ['Q','S','C']\n",
    "title = 'Embarked percentage'\n",
    "figsize = (3,3)\n",
    "\n",
    "histogram_rep(df,col_name, len(df),x_label, x_labels, title, figsize)"
   ]
  },
  {
   "cell_type": "code",
   "execution_count": null,
   "id": "11d1ba0f",
   "metadata": {
    "execution": {
     "iopub.execute_input": "2023-09-06T17:55:58.353501Z",
     "iopub.status.busy": "2023-09-06T17:55:58.352867Z",
     "iopub.status.idle": "2023-09-06T17:55:58.567160Z",
     "shell.execute_reply": "2023-09-06T17:55:58.565722Z"
    },
    "papermill": {
     "duration": 0.247807,
     "end_time": "2023-09-06T17:55:58.571583",
     "exception": false,
     "start_time": "2023-09-06T17:55:58.323776",
     "status": "completed"
    },
    "tags": []
   },
   "outputs": [],
   "source": [
    "embarked_result = survival_percentage(df, \"Embarked\")\n",
    "\n",
    "for key, value in embarked_result.items():\n",
    "    print(f\"precentage of {key} who survived: {value:.2f}%\")\n",
    "    \n",
    "draw_pie_chart(embarked_result)"
   ]
  },
  {
   "cell_type": "markdown",
   "id": "6509ca5e",
   "metadata": {
    "papermill": {
     "duration": 0.027219,
     "end_time": "2023-09-06T17:55:58.627718",
     "exception": false,
     "start_time": "2023-09-06T17:55:58.600499",
     "status": "completed"
    },
    "tags": []
   },
   "source": [
    "### 4- Pclass"
   ]
  },
  {
   "cell_type": "code",
   "execution_count": null,
   "id": "1f5cbc75",
   "metadata": {
    "execution": {
     "iopub.execute_input": "2023-09-06T17:55:58.684884Z",
     "iopub.status.busy": "2023-09-06T17:55:58.684459Z",
     "iopub.status.idle": "2023-09-06T17:55:58.938377Z",
     "shell.execute_reply": "2023-09-06T17:55:58.937196Z"
    },
    "papermill": {
     "duration": 0.285722,
     "end_time": "2023-09-06T17:55:58.940932",
     "exception": false,
     "start_time": "2023-09-06T17:55:58.655210",
     "status": "completed"
    },
    "tags": []
   },
   "outputs": [],
   "source": [
    "col_name = 'Pclass'\n",
    "x_label = 'Pclass'\n",
    "x_labels = ['3rd class', '2nd class', '1st class']\n",
    "title = 'Percentage of Pclass'\n",
    "figsize = (3,4)\n",
    "\n",
    "histogram_rep(df,col_name, len(df),x_label, x_labels, title, figsize)"
   ]
  },
  {
   "cell_type": "code",
   "execution_count": null,
   "id": "101c956f",
   "metadata": {
    "execution": {
     "iopub.execute_input": "2023-09-06T17:55:59.000363Z",
     "iopub.status.busy": "2023-09-06T17:55:58.999949Z",
     "iopub.status.idle": "2023-09-06T17:55:59.229634Z",
     "shell.execute_reply": "2023-09-06T17:55:59.228202Z"
    },
    "papermill": {
     "duration": 0.263882,
     "end_time": "2023-09-06T17:55:59.233689",
     "exception": false,
     "start_time": "2023-09-06T17:55:58.969807",
     "status": "completed"
    },
    "tags": []
   },
   "outputs": [],
   "source": [
    "embarked_result = survival_percentage(df, \"Pclass\")\n",
    "\n",
    "for key, value in embarked_result.items():\n",
    "    print(f\"precentage of {key} who survived: {value:.2f}%\")\n",
    "    \n",
    "draw_pie_chart(embarked_result)"
   ]
  },
  {
   "cell_type": "markdown",
   "id": "50faa1f1",
   "metadata": {
    "papermill": {
     "duration": 0.028801,
     "end_time": "2023-09-06T17:55:59.291605",
     "exception": false,
     "start_time": "2023-09-06T17:55:59.262804",
     "status": "completed"
    },
    "tags": []
   },
   "source": [
    "### 5- SibSp"
   ]
  },
  {
   "cell_type": "code",
   "execution_count": null,
   "id": "9482d270",
   "metadata": {
    "execution": {
     "iopub.execute_input": "2023-09-06T17:55:59.352215Z",
     "iopub.status.busy": "2023-09-06T17:55:59.351840Z",
     "iopub.status.idle": "2023-09-06T17:55:59.644020Z",
     "shell.execute_reply": "2023-09-06T17:55:59.642660Z"
    },
    "papermill": {
     "duration": 0.324879,
     "end_time": "2023-09-06T17:55:59.646643",
     "exception": false,
     "start_time": "2023-09-06T17:55:59.321764",
     "status": "completed"
    },
    "tags": []
   },
   "outputs": [],
   "source": [
    "col_name = 'SibSp'\n",
    "x_label = 'SibSp'\n",
    "title = 'SibSp percentages'\n",
    "figsize = (4, 3)\n",
    "x_labels = ['0','1','2','3','4','5','8']\n",
    "\n",
    "histogram_rep(df,col_name, len(df), x_label, x_labels, title, figsize)"
   ]
  },
  {
   "cell_type": "code",
   "execution_count": null,
   "id": "dd7ec44a",
   "metadata": {
    "execution": {
     "iopub.execute_input": "2023-09-06T17:55:59.708103Z",
     "iopub.status.busy": "2023-09-06T17:55:59.707135Z",
     "iopub.status.idle": "2023-09-06T17:56:00.024070Z",
     "shell.execute_reply": "2023-09-06T17:56:00.022947Z"
    },
    "papermill": {
     "duration": 0.350373,
     "end_time": "2023-09-06T17:56:00.026619",
     "exception": false,
     "start_time": "2023-09-06T17:55:59.676246",
     "status": "completed"
    },
    "tags": []
   },
   "outputs": [],
   "source": [
    "SibSp_result = survival_percentage(df, \"SibSp\")\n",
    "\n",
    "for key, value in SibSp_result.items():\n",
    "    print(f\"precentage of {key} who survived: {value:.2f}%\")\n",
    "    \n",
    "draw_pie_chart(SibSp_result)"
   ]
  },
  {
   "cell_type": "markdown",
   "id": "b439e5c3",
   "metadata": {
    "papermill": {
     "duration": 0.030108,
     "end_time": "2023-09-06T17:56:00.086922",
     "exception": false,
     "start_time": "2023-09-06T17:56:00.056814",
     "status": "completed"
    },
    "tags": []
   },
   "source": [
    "### 6- Parch"
   ]
  },
  {
   "cell_type": "code",
   "execution_count": null,
   "id": "4600deff",
   "metadata": {
    "execution": {
     "iopub.execute_input": "2023-09-06T17:56:00.150218Z",
     "iopub.status.busy": "2023-09-06T17:56:00.149561Z",
     "iopub.status.idle": "2023-09-06T17:56:00.420736Z",
     "shell.execute_reply": "2023-09-06T17:56:00.419528Z"
    },
    "papermill": {
     "duration": 0.305735,
     "end_time": "2023-09-06T17:56:00.423300",
     "exception": false,
     "start_time": "2023-09-06T17:56:00.117565",
     "status": "completed"
    },
    "tags": []
   },
   "outputs": [],
   "source": [
    "col_name = 'Parch'\n",
    "x_label = 'Parch'\n",
    "title = 'Parch percentages'\n",
    "figsize = (9, 3)\n",
    "x_labels = ['0', '1', '3', '2', '4', '6','5','9']      # 8 classes\n",
    "\n",
    "histogram_rep(df,col_name, len(df), x_label, x_labels, title, figsize)"
   ]
  },
  {
   "cell_type": "code",
   "execution_count": null,
   "id": "79ce4748",
   "metadata": {
    "execution": {
     "iopub.execute_input": "2023-09-06T17:56:00.487425Z",
     "iopub.status.busy": "2023-09-06T17:56:00.487031Z",
     "iopub.status.idle": "2023-09-06T17:56:00.802460Z",
     "shell.execute_reply": "2023-09-06T17:56:00.801236Z"
    },
    "papermill": {
     "duration": 0.350726,
     "end_time": "2023-09-06T17:56:00.805092",
     "exception": false,
     "start_time": "2023-09-06T17:56:00.454366",
     "status": "completed"
    },
    "tags": []
   },
   "outputs": [],
   "source": [
    "Parch_result = survival_percentage(df, \"Parch\")\n",
    "\n",
    "for key, value in Parch_result.items():\n",
    "    print(f\"precentage of {key} who survived: {value:.2f}%\")\n",
    "    \n",
    "draw_pie_chart(Parch_result)"
   ]
  },
  {
   "cell_type": "markdown",
   "id": "5a52c593",
   "metadata": {
    "papermill": {
     "duration": 0.032392,
     "end_time": "2023-09-06T17:56:00.870132",
     "exception": false,
     "start_time": "2023-09-06T17:56:00.837740",
     "status": "completed"
    },
    "tags": []
   },
   "source": [
    "### 7- Ticket"
   ]
  },
  {
   "cell_type": "code",
   "execution_count": null,
   "id": "07a9666b",
   "metadata": {
    "execution": {
     "iopub.execute_input": "2023-09-06T17:56:00.937844Z",
     "iopub.status.busy": "2023-09-06T17:56:00.937033Z",
     "iopub.status.idle": "2023-09-06T17:56:00.944306Z",
     "shell.execute_reply": "2023-09-06T17:56:00.943410Z"
    },
    "papermill": {
     "duration": 0.043912,
     "end_time": "2023-09-06T17:56:00.946637",
     "exception": false,
     "start_time": "2023-09-06T17:56:00.902725",
     "status": "completed"
    },
    "tags": []
   },
   "outputs": [],
   "source": [
    "# Split the 'Ticket' column and store the first part in 'Ticket_category'\n",
    "df['Ticket_category'] = df['Ticket'].str.split(' ').str[0]"
   ]
  },
  {
   "cell_type": "code",
   "execution_count": null,
   "id": "c753f643",
   "metadata": {
    "execution": {
     "iopub.execute_input": "2023-09-06T17:56:01.013740Z",
     "iopub.status.busy": "2023-09-06T17:56:01.012613Z",
     "iopub.status.idle": "2023-09-06T17:56:01.033789Z",
     "shell.execute_reply": "2023-09-06T17:56:01.032474Z"
    },
    "papermill": {
     "duration": 0.057298,
     "end_time": "2023-09-06T17:56:01.036091",
     "exception": false,
     "start_time": "2023-09-06T17:56:00.978793",
     "status": "completed"
    },
    "tags": []
   },
   "outputs": [],
   "source": [
    "col_name = 'Ticket'\n",
    "df['Ticket_category'] = df[col_name].apply(extract_ticket_category)\n",
    "percent('Ticket_category', len(df))"
   ]
  },
  {
   "cell_type": "code",
   "execution_count": null,
   "id": "682eb9f3",
   "metadata": {
    "execution": {
     "iopub.execute_input": "2023-09-06T17:56:01.103758Z",
     "iopub.status.busy": "2023-09-06T17:56:01.102624Z",
     "iopub.status.idle": "2023-09-06T17:56:01.110682Z",
     "shell.execute_reply": "2023-09-06T17:56:01.109368Z"
    },
    "papermill": {
     "duration": 0.044521,
     "end_time": "2023-09-06T17:56:01.113143",
     "exception": false,
     "start_time": "2023-09-06T17:56:01.068622",
     "status": "completed"
    },
    "tags": []
   },
   "outputs": [],
   "source": [
    "df.drop(columns=['Ticket'], inplace=True)\n",
    "features.remove('Ticket')\n",
    "features.append('Ticket_category')\n",
    "print(features)"
   ]
  },
  {
   "cell_type": "code",
   "execution_count": null,
   "id": "18bdc5bb",
   "metadata": {
    "execution": {
     "iopub.execute_input": "2023-09-06T17:56:01.179759Z",
     "iopub.status.busy": "2023-09-06T17:56:01.179345Z",
     "iopub.status.idle": "2023-09-06T17:56:01.820899Z",
     "shell.execute_reply": "2023-09-06T17:56:01.819827Z"
    },
    "papermill": {
     "duration": 0.677809,
     "end_time": "2023-09-06T17:56:01.823586",
     "exception": false,
     "start_time": "2023-09-06T17:56:01.145777",
     "status": "completed"
    },
    "tags": []
   },
   "outputs": [],
   "source": [
    "# Calculate the count of each ticket category\n",
    "ticket_category_counts = df['Ticket_category'].value_counts()\n",
    "\n",
    "# Extract unique categories and their counts\n",
    "categories = ticket_category_counts.index\n",
    "counts = ticket_category_counts.values\n",
    "\n",
    "# Create a scatter plot\n",
    "plt.figure(figsize=(18, 6))\n",
    "plt.scatter(categories, counts, c='blue', marker='o')\n",
    "plt.xlabel('Ticket Category')\n",
    "plt.ylabel('Count')\n",
    "plt.title('Ticket Category Distribution')\n",
    "plt.xticks(rotation=45)\n",
    "plt.grid(True)\n",
    "plt.show()"
   ]
  },
  {
   "cell_type": "markdown",
   "id": "3a4dc89c",
   "metadata": {
    "papermill": {
     "duration": 0.032652,
     "end_time": "2023-09-06T17:56:01.889876",
     "exception": false,
     "start_time": "2023-09-06T17:56:01.857224",
     "status": "completed"
    },
    "tags": []
   },
   "source": [
    "##### So, there is an outlier"
   ]
  },
  {
   "cell_type": "code",
   "execution_count": null,
   "id": "b81e4c68",
   "metadata": {
    "execution": {
     "iopub.execute_input": "2023-09-06T17:56:01.959036Z",
     "iopub.status.busy": "2023-09-06T17:56:01.958290Z",
     "iopub.status.idle": "2023-09-06T17:56:01.966660Z",
     "shell.execute_reply": "2023-09-06T17:56:01.965116Z"
    },
    "papermill": {
     "duration": 0.045217,
     "end_time": "2023-09-06T17:56:01.968972",
     "exception": false,
     "start_time": "2023-09-06T17:56:01.923755",
     "status": "completed"
    },
    "tags": []
   },
   "outputs": [],
   "source": [
    "df.drop(columns=['Ticket_category'], inplace=True)\n",
    "features.remove('Ticket_category')\n",
    "print(features)"
   ]
  },
  {
   "cell_type": "markdown",
   "id": "4ce7615d",
   "metadata": {
    "papermill": {
     "duration": 0.033013,
     "end_time": "2023-09-06T17:56:02.035424",
     "exception": false,
     "start_time": "2023-09-06T17:56:02.002411",
     "status": "completed"
    },
    "tags": []
   },
   "source": [
    "### 8- Fare: A numerical variable for the price of the ticket"
   ]
  },
  {
   "cell_type": "code",
   "execution_count": null,
   "id": "94cd2cf3",
   "metadata": {
    "execution": {
     "iopub.execute_input": "2023-09-06T17:56:02.104537Z",
     "iopub.status.busy": "2023-09-06T17:56:02.103740Z",
     "iopub.status.idle": "2023-09-06T17:56:02.491886Z",
     "shell.execute_reply": "2023-09-06T17:56:02.490775Z"
    },
    "papermill": {
     "duration": 0.42558,
     "end_time": "2023-09-06T17:56:02.494379",
     "exception": false,
     "start_time": "2023-09-06T17:56:02.068799",
     "status": "completed"
    },
    "tags": []
   },
   "outputs": [],
   "source": [
    "col_name = 'Fare'\n",
    "percent(col_name, len(df))\n",
    "sns.kdeplot(data=df['Fare'], color='red')"
   ]
  },
  {
   "cell_type": "markdown",
   "id": "6c310315",
   "metadata": {
    "papermill": {
     "duration": 0.034639,
     "end_time": "2023-09-06T17:56:02.564291",
     "exception": false,
     "start_time": "2023-09-06T17:56:02.529652",
     "status": "completed"
    },
    "tags": []
   },
   "source": [
    "## Pre-processing"
   ]
  },
  {
   "cell_type": "code",
   "execution_count": null,
   "id": "191001ef",
   "metadata": {
    "execution": {
     "iopub.execute_input": "2023-09-06T17:56:02.635850Z",
     "iopub.status.busy": "2023-09-06T17:56:02.634668Z",
     "iopub.status.idle": "2023-09-06T17:56:02.645786Z",
     "shell.execute_reply": "2023-09-06T17:56:02.644928Z"
    },
    "papermill": {
     "duration": 0.049619,
     "end_time": "2023-09-06T17:56:02.648203",
     "exception": false,
     "start_time": "2023-09-06T17:56:02.598584",
     "status": "completed"
    },
    "tags": []
   },
   "outputs": [],
   "source": [
    "print(df.head)"
   ]
  },
  {
   "cell_type": "markdown",
   "id": "842fc331",
   "metadata": {
    "papermill": {
     "duration": 0.035444,
     "end_time": "2023-09-06T17:56:02.718988",
     "exception": false,
     "start_time": "2023-09-06T17:56:02.683544",
     "status": "completed"
    },
    "tags": []
   },
   "source": [
    "##### Now, there is non-numerical values\n",
    "#####    To remove them we should use linear regression and predict its values from other columns\n",
    "##### Or simply drop it"
   ]
  },
  {
   "cell_type": "code",
   "execution_count": null,
   "id": "c95cacba",
   "metadata": {
    "execution": {
     "iopub.execute_input": "2023-09-06T17:56:02.792090Z",
     "iopub.status.busy": "2023-09-06T17:56:02.791180Z",
     "iopub.status.idle": "2023-09-06T17:56:02.796294Z",
     "shell.execute_reply": "2023-09-06T17:56:02.795466Z"
    },
    "papermill": {
     "duration": 0.045537,
     "end_time": "2023-09-06T17:56:02.799054",
     "exception": false,
     "start_time": "2023-09-06T17:56:02.753517",
     "status": "completed"
    },
    "tags": []
   },
   "outputs": [],
   "source": [
    "# Define the features to use for prediction\n",
    "#use_features = ['Pclass', 'Sex_female', 'Sex_male', 'SibSp', 'Parch', 'Embarked_C', 'Embarked_Q', 'Embarked_S']\n",
    "\n",
    "# Filter the DataFrame to only include rows with non-null 'Fare' values\n",
    "#df_clean = df.dropna(subset=['Fare'])\n",
    "\n",
    "# Create the feature matrix X and target variable y\n",
    "#X = df_clean[use_features]\n",
    "#y = df_clean['Fare']\n",
    "\n",
    "# Create and fit the linear regression model\n",
    "#model = LinearRegression()\n",
    "#model.fit(X, y)\n",
    "\n",
    "# Filter the DataFrame to only include rows with null 'Fare' values\n",
    "#null_fare_indices = df[df['Fare'].isnull()].index\n",
    "\n",
    "# Predict missing 'Fare' values using the model\n",
    "#predicted_fares = model.predict(df.loc[null_fare_indices, use_features])\n",
    "\n",
    "# Fill the null 'Fare' values with the predicted values\n",
    "#df.loc[null_fare_indices, 'Fare'] = predicted_fares"
   ]
  },
  {
   "cell_type": "code",
   "execution_count": null,
   "id": "431daf57",
   "metadata": {
    "execution": {
     "iopub.execute_input": "2023-09-06T17:56:02.873381Z",
     "iopub.status.busy": "2023-09-06T17:56:02.872272Z",
     "iopub.status.idle": "2023-09-06T17:56:02.877355Z",
     "shell.execute_reply": "2023-09-06T17:56:02.876509Z"
    },
    "papermill": {
     "duration": 0.04425,
     "end_time": "2023-09-06T17:56:02.879844",
     "exception": false,
     "start_time": "2023-09-06T17:56:02.835594",
     "status": "completed"
    },
    "tags": []
   },
   "outputs": [],
   "source": [
    "#col_name = 'Fare'\n",
    "#percent(col_name, len(df))\n",
    "#sns.kdeplot(data=df['Fare'], color='red')"
   ]
  },
  {
   "cell_type": "code",
   "execution_count": null,
   "id": "d3a1d9d6",
   "metadata": {
    "execution": {
     "iopub.execute_input": "2023-09-06T17:56:02.953597Z",
     "iopub.status.busy": "2023-09-06T17:56:02.952902Z",
     "iopub.status.idle": "2023-09-06T17:56:02.960267Z",
     "shell.execute_reply": "2023-09-06T17:56:02.959090Z"
    },
    "papermill": {
     "duration": 0.047034,
     "end_time": "2023-09-06T17:56:02.962489",
     "exception": false,
     "start_time": "2023-09-06T17:56:02.915455",
     "status": "completed"
    },
    "tags": []
   },
   "outputs": [],
   "source": [
    "df.drop(columns=['Fare'], inplace=True)\n",
    "features.remove('Fare')\n",
    "print(features)"
   ]
  },
  {
   "cell_type": "code",
   "execution_count": null,
   "id": "1f07cb58",
   "metadata": {
    "execution": {
     "iopub.execute_input": "2023-09-06T17:56:03.034027Z",
     "iopub.status.busy": "2023-09-06T17:56:03.033335Z",
     "iopub.status.idle": "2023-09-06T17:56:03.044476Z",
     "shell.execute_reply": "2023-09-06T17:56:03.043231Z"
    },
    "papermill": {
     "duration": 0.04981,
     "end_time": "2023-09-06T17:56:03.046774",
     "exception": false,
     "start_time": "2023-09-06T17:56:02.996964",
     "status": "completed"
    },
    "tags": []
   },
   "outputs": [],
   "source": [
    "print(df.head)"
   ]
  },
  {
   "cell_type": "markdown",
   "id": "aaeef4f2",
   "metadata": {
    "papermill": {
     "duration": 0.034225,
     "end_time": "2023-09-06T17:56:03.115983",
     "exception": false,
     "start_time": "2023-09-06T17:56:03.081758",
     "status": "completed"
    },
    "tags": []
   },
   "source": [
    "### 9- Embarked: Alphanumerical cabin code"
   ]
  },
  {
   "cell_type": "code",
   "execution_count": null,
   "id": "9d3858e7",
   "metadata": {
    "execution": {
     "iopub.execute_input": "2023-09-06T17:56:03.187505Z",
     "iopub.status.busy": "2023-09-06T17:56:03.186749Z",
     "iopub.status.idle": "2023-09-06T17:56:03.430801Z",
     "shell.execute_reply": "2023-09-06T17:56:03.429620Z"
    },
    "papermill": {
     "duration": 0.282415,
     "end_time": "2023-09-06T17:56:03.433160",
     "exception": false,
     "start_time": "2023-09-06T17:56:03.150745",
     "status": "completed"
    },
    "tags": []
   },
   "outputs": [],
   "source": [
    "col_name = 'Embarked'\n",
    "x_label = 'Embarked'\n",
    "title = 'Embarked percentages'\n",
    "figsize = (3, 3)\n",
    "x_labels = ['Q','S','C']\n",
    "\n",
    "histogram_rep(df,col_name, len(df), x_label, x_labels, title, figsize)"
   ]
  },
  {
   "cell_type": "code",
   "execution_count": null,
   "id": "fec35ff2",
   "metadata": {
    "execution": {
     "iopub.execute_input": "2023-09-06T17:56:03.506201Z",
     "iopub.status.busy": "2023-09-06T17:56:03.505771Z",
     "iopub.status.idle": "2023-09-06T17:56:03.735560Z",
     "shell.execute_reply": "2023-09-06T17:56:03.734595Z"
    },
    "papermill": {
     "duration": 0.268516,
     "end_time": "2023-09-06T17:56:03.737896",
     "exception": false,
     "start_time": "2023-09-06T17:56:03.469380",
     "status": "completed"
    },
    "tags": []
   },
   "outputs": [],
   "source": [
    "Embarked_result = survival_percentage(df, \"Embarked\")\n",
    "\n",
    "for key, value in Embarked_result.items():\n",
    "    print(f\"percentage of {key} who survived: {value:.2f}%\")\n",
    "\n",
    "draw_pie_chart(Embarked_result)"
   ]
  },
  {
   "cell_type": "code",
   "execution_count": null,
   "id": "b627097e",
   "metadata": {
    "execution": {
     "iopub.execute_input": "2023-09-06T17:56:03.814816Z",
     "iopub.status.busy": "2023-09-06T17:56:03.813727Z",
     "iopub.status.idle": "2023-09-06T17:56:03.819236Z",
     "shell.execute_reply": "2023-09-06T17:56:03.818383Z"
    },
    "papermill": {
     "duration": 0.044806,
     "end_time": "2023-09-06T17:56:03.821324",
     "exception": false,
     "start_time": "2023-09-06T17:56:03.776518",
     "status": "completed"
    },
    "tags": []
   },
   "outputs": [],
   "source": [
    "print(features)"
   ]
  },
  {
   "cell_type": "code",
   "execution_count": null,
   "id": "ef3ddb9c",
   "metadata": {
    "execution": {
     "iopub.execute_input": "2023-09-06T17:56:03.896153Z",
     "iopub.status.busy": "2023-09-06T17:56:03.895491Z",
     "iopub.status.idle": "2023-09-06T17:56:03.902705Z",
     "shell.execute_reply": "2023-09-06T17:56:03.901598Z"
    },
    "papermill": {
     "duration": 0.047848,
     "end_time": "2023-09-06T17:56:03.905368",
     "exception": false,
     "start_time": "2023-09-06T17:56:03.857520",
     "status": "completed"
    },
    "tags": []
   },
   "outputs": [],
   "source": [
    "use_features = ['Pclass', 'Sex', 'SibSp', 'Parch']\n",
    "df = pd.get_dummies(features)"
   ]
  },
  {
   "cell_type": "code",
   "execution_count": null,
   "id": "54c82b93",
   "metadata": {
    "execution": {
     "iopub.execute_input": "2023-09-06T17:56:03.981493Z",
     "iopub.status.busy": "2023-09-06T17:56:03.980361Z",
     "iopub.status.idle": "2023-09-06T17:56:03.994514Z",
     "shell.execute_reply": "2023-09-06T17:56:03.993181Z"
    },
    "papermill": {
     "duration": 0.054953,
     "end_time": "2023-09-06T17:56:03.997075",
     "exception": false,
     "start_time": "2023-09-06T17:56:03.942122",
     "status": "completed"
    },
    "tags": []
   },
   "outputs": [],
   "source": [
    "df.head()"
   ]
  },
  {
   "cell_type": "code",
   "execution_count": null,
   "id": "75c156f8",
   "metadata": {
    "execution": {
     "iopub.execute_input": "2023-09-06T17:56:04.072252Z",
     "iopub.status.busy": "2023-09-06T17:56:04.071667Z",
     "iopub.status.idle": "2023-09-06T17:56:04.078428Z",
     "shell.execute_reply": "2023-09-06T17:56:04.077195Z"
    },
    "papermill": {
     "duration": 0.047332,
     "end_time": "2023-09-06T17:56:04.081106",
     "exception": false,
     "start_time": "2023-09-06T17:56:04.033774",
     "status": "completed"
    },
    "tags": []
   },
   "outputs": [],
   "source": [
    "X = df[use_features]\n",
    "y = df['Survived']"
   ]
  },
  {
   "cell_type": "code",
   "execution_count": null,
   "id": "cd268927",
   "metadata": {
    "execution": {
     "iopub.execute_input": "2023-09-06T17:56:04.155787Z",
     "iopub.status.busy": "2023-09-06T17:56:04.154698Z",
     "iopub.status.idle": "2023-09-06T17:56:04.175194Z",
     "shell.execute_reply": "2023-09-06T17:56:04.174380Z"
    },
    "papermill": {
     "duration": 0.060317,
     "end_time": "2023-09-06T17:56:04.177702",
     "exception": false,
     "start_time": "2023-09-06T17:56:04.117385",
     "status": "completed"
    },
    "tags": []
   },
   "outputs": [],
   "source": [
    "X.info()\n",
    "y.info()"
   ]
  },
  {
   "cell_type": "markdown",
   "id": "3eda5952",
   "metadata": {
    "papermill": {
     "duration": 0.036089,
     "end_time": "2023-09-06T17:56:04.251065",
     "exception": false,
     "start_time": "2023-09-06T17:56:04.214976",
     "status": "completed"
    },
    "tags": []
   },
   "source": [
    "## Train test split"
   ]
  },
  {
   "cell_type": "code",
   "execution_count": null,
   "id": "2bb3481d",
   "metadata": {
    "execution": {
     "iopub.execute_input": "2023-09-06T17:56:04.326385Z",
     "iopub.status.busy": "2023-09-06T17:56:04.325423Z",
     "iopub.status.idle": "2023-09-06T17:56:04.332201Z",
     "shell.execute_reply": "2023-09-06T17:56:04.331120Z"
    },
    "papermill": {
     "duration": 0.04761,
     "end_time": "2023-09-06T17:56:04.335158",
     "exception": false,
     "start_time": "2023-09-06T17:56:04.287548",
     "status": "completed"
    },
    "tags": []
   },
   "outputs": [],
   "source": [
    "# Split your data into training and testing sets\n",
    "X_train, X_test, y_train, y_test = train_test_split(X, y, test_size=0.2, random_state=1)"
   ]
  },
  {
   "cell_type": "code",
   "execution_count": null,
   "id": "8ba9a9ff",
   "metadata": {
    "execution": {
     "iopub.execute_input": "2023-09-06T17:56:04.410512Z",
     "iopub.status.busy": "2023-09-06T17:56:04.410072Z",
     "iopub.status.idle": "2023-09-06T17:56:04.416941Z",
     "shell.execute_reply": "2023-09-06T17:56:04.415994Z"
    },
    "papermill": {
     "duration": 0.047822,
     "end_time": "2023-09-06T17:56:04.419352",
     "exception": false,
     "start_time": "2023-09-06T17:56:04.371530",
     "status": "completed"
    },
    "tags": []
   },
   "outputs": [],
   "source": [
    "# Split your data into training and validation sets\n",
    "X_train, X_val, y_train, y_val = train_test_split(X, y, test_size=0.2, random_state=1)"
   ]
  },
  {
   "cell_type": "markdown",
   "id": "53f69b58",
   "metadata": {},
   "source": [
    "## Creating Models"
   ]
  },
  {
   "cell_type": "code",
   "execution_count": null,
   "id": "3dd53e6e",
   "metadata": {
    "execution": {
     "iopub.execute_input": "2023-09-06T17:56:04.494372Z",
     "iopub.status.busy": "2023-09-06T17:56:04.493676Z",
     "iopub.status.idle": "2023-09-06T17:56:04.498064Z",
     "shell.execute_reply": "2023-09-06T17:56:04.497282Z"
    },
    "papermill": {
     "duration": 0.044852,
     "end_time": "2023-09-06T17:56:04.500337",
     "exception": false,
     "start_time": "2023-09-06T17:56:04.455485",
     "status": "completed"
    },
    "tags": []
   },
   "outputs": [],
   "source": [
    "# Create and fit the model\n",
    "#model = RandomForestClassifier(n_estimators=100, max_depth=5, random_state=1)\n",
    "#model.fit(X_train, y_train)\n",
    "\n",
    "# Make predictions on both train and test data\n",
    "#train_predictions = model.predict(X_train)\n",
    "#test_predictions = model.predict(X_test)\n",
    "\n",
    "# Calculate train and test accuracy\n",
    "#train_accuracy = accuracy_score(y_train, train_predictions)\n",
    "#test_accuracy = accuracy_score(y_test, test_predictions)\n",
    "\n",
    "# Print both train and test accuracy\n",
    "#print(f\"Train Accuracy: {train_accuracy:.2%}\")\n",
    "#print(f\"Test Accuracy: {test_accuracy:.2%}\")"
   ]
  },
  {
   "cell_type": "code",
   "execution_count": null,
   "id": "ebdc4b63",
   "metadata": {
    "execution": {
     "iopub.execute_input": "2023-09-06T17:56:04.577445Z",
     "iopub.status.busy": "2023-09-06T17:56:04.576754Z",
     "iopub.status.idle": "2023-09-06T17:56:35.761634Z",
     "shell.execute_reply": "2023-09-06T17:56:35.760035Z"
    },
    "papermill": {
     "duration": 31.227188,
     "end_time": "2023-09-06T17:56:35.764149",
     "exception": false,
     "start_time": "2023-09-06T17:56:04.536961",
     "status": "completed"
    },
    "tags": []
   },
   "outputs": [],
   "source": [
    "# Define a list of models to try\n",
    "models = [\n",
    "    (\"Random Forest\", RandomForestClassifier(n_estimators=100, max_depth=5, random_state=1)),\n",
    "    (\"Gradient Boosting\", GradientBoostingClassifier(n_estimators=100, max_depth=5, random_state=1)),\n",
    "    (\"Logistic Regression\", LogisticRegression(random_state=1))\n",
    "]\n",
    "\n",
    "best_model = None\n",
    "best_accuracy = 0.0\n",
    "\n",
    "for model_name, model in models:\n",
    "    print(f\"Training {model_name}...\")\n",
    "    \n",
    "    train_accuracy_list = []\n",
    "    val_accuracy_list = []\n",
    "    test_accuracy_list = []\n",
    "\n",
    "    # Train the model and track accuracy\n",
    "    for epoch in range(1, 101):  # You can adjust the number of epochs\n",
    "        model.fit(X_train, y_train)\n",
    "\n",
    "        train_predictions = model.predict(X_train)\n",
    "        val_predictions = model.predict(X_val)  # Assuming you have a validation set X_val and y_val\n",
    "        test_predictions = model.predict(X_test)\n",
    "\n",
    "        train_accuracy = accuracy_score(y_train, train_predictions)\n",
    "        val_accuracy = accuracy_score(y_val, val_predictions)\n",
    "        test_accuracy = accuracy_score(y_test, test_predictions)\n",
    "\n",
    "        train_accuracy_list.append(train_accuracy)\n",
    "        val_accuracy_list.append(val_accuracy)\n",
    "        test_accuracy_list.append(test_accuracy)\n",
    "\n",
    "    # Print both train and test accuracy\n",
    "    print(f\"{model_name} Train Accuracy: {train_accuracy:.2%}\")\n",
    "    print(f\"{model_name} Validation Accuracy: {val_accuracy:.2%}\")\n",
    "    print(f\"{model_name} Test Accuracy: {test_accuracy:.2%}\")\n",
    "    print(\"\\n\")\n",
    "\n",
    "    if val_accuracy > best_accuracy:\n",
    "        best_accuracy = val_accuracy\n",
    "        best_model = model_name\n",
    "        \n",
    "# Check if all models have similar accuracy\n",
    "similar_models = all(val == best_accuracy for val in val_accuracy_list)\n",
    "if similar_models:\n",
    "    print(\"All models have similar performance.\")\n",
    "else:\n",
    "    print(f\"The best model is {best_model} with a validation accuracy of {best_accuracy:.2%}\")"
   ]
  },
  {
   "cell_type": "markdown",
   "id": "8fe639ee",
   "metadata": {},
   "source": [
    "## Visualizing Accuracy"
   ]
  },
  {
   "cell_type": "code",
   "execution_count": null,
   "id": "c8c623fa",
   "metadata": {
    "execution": {
     "iopub.execute_input": "2023-09-06T17:56:35.840471Z",
     "iopub.status.busy": "2023-09-06T17:56:35.839493Z",
     "iopub.status.idle": "2023-09-06T17:56:36.392622Z",
     "shell.execute_reply": "2023-09-06T17:56:36.391302Z"
    },
    "papermill": {
     "duration": 0.594269,
     "end_time": "2023-09-06T17:56:36.395149",
     "exception": false,
     "start_time": "2023-09-06T17:56:35.800880",
     "status": "completed"
    },
    "tags": []
   },
   "outputs": [],
   "source": [
    "# Plotting train accuracy vs validation accuracy and train accuracy vs test accuracy\n",
    "plt.figure(figsize=(15, 5))\n",
    "\n",
    "# Train accuracy vs validation accuracy\n",
    "plt.subplot(1, 2, 1)\n",
    "plt.plot(train_accuracy_list, label='Train Accuracy', c='red')\n",
    "plt.plot(val_accuracy_list, label='Validation Accuracy')\n",
    "plt.xlabel('Epochs')\n",
    "plt.ylabel('Accuracy')\n",
    "plt.title('Train Accuracy vs Validation Accuracy')\n",
    "plt.legend()\n",
    "\n",
    "# Train accuracy vs test accuracy\n",
    "plt.subplot(1, 2, 2)\n",
    "plt.plot(train_accuracy_list, label='Train Accuracy', c='red')\n",
    "plt.plot(test_accuracy_list, label='Test Accuracy')\n",
    "plt.xlabel('Epochs')\n",
    "plt.ylabel('Accuracy')\n",
    "plt.title('Train Accuracy vs Test Accuracy')\n",
    "plt.legend()\n",
    "\n",
    "plt.show()"
   ]
  },
  {
   "cell_type": "markdown",
   "id": "95a9b6ff",
   "metadata": {},
   "source": [
    "## Evaluation of Models"
   ]
  },
  {
   "cell_type": "code",
   "execution_count": null,
   "id": "be258ea8",
   "metadata": {
    "execution": {
     "iopub.execute_input": "2023-09-06T17:56:36.473040Z",
     "iopub.status.busy": "2023-09-06T17:56:36.472634Z",
     "iopub.status.idle": "2023-09-06T17:56:37.715072Z",
     "shell.execute_reply": "2023-09-06T17:56:37.713799Z"
    },
    "papermill": {
     "duration": 1.284553,
     "end_time": "2023-09-06T17:56:37.717949",
     "exception": false,
     "start_time": "2023-09-06T17:56:36.433396",
     "status": "completed"
    },
    "scrolled": true,
    "tags": []
   },
   "outputs": [],
   "source": [
    "for model_name, model in models:\n",
    "    print(f\"Evaluating {model_name}...\")\n",
    "    \n",
    "    # Train the model\n",
    "    model.fit(X_train, y_train)\n",
    "\n",
    "    # Make predictions\n",
    "    train_predictions = model.predict(X_train)\n",
    "    val_predictions = model.predict(X_val)  # Assuming you have a validation set X_val and y_val\n",
    "    test_predictions = model.predict(X_test)\n",
    "\n",
    "    # Calculate confusion matrix and classification report for train data\n",
    "    train_cm = confusion_matrix(y_train, train_predictions)\n",
    "    train_cr = classification_report(y_train, train_predictions, output_dict=True, zero_division=1)\n",
    "    \n",
    "    # Calculate confusion matrix and classification report for validation data\n",
    "    val_cm = confusion_matrix(y_val, val_predictions)\n",
    "    val_cr = classification_report(y_val, val_predictions, output_dict=True, zero_division=1)\n",
    "\n",
    "    # Calculate confusion matrix and classification report for test data\n",
    "    test_cm = confusion_matrix(y_test, test_predictions)\n",
    "    test_cr = classification_report(y_test, test_predictions, output_dict=True, zero_division=1)\n",
    "    \n",
    "    # Display confusion matrix as a heatmap for test data\n",
    "    plt.figure(figsize=(8, 6))\n",
    "    sns.heatmap(test_cm, annot=True, fmt=\"d\", cmap=\"Blues\")\n",
    "    plt.xlabel('Predicted')\n",
    "    plt.ylabel('True')\n",
    "    plt.title(f'Confusion Matrix - {model_name} (Test Data)')\n",
    "    plt.show()\n",
    "\n",
    "    # Print classification report for test data\n",
    "    print(f\"Classification Report for {model_name} - Test Data:\")\n",
    "    print(classification_report(y_test, test_predictions))"
   ]
  }
 ],
 "metadata": {
  "kernelspec": {
   "display_name": "Python 3 (ipykernel)",
   "language": "python",
   "name": "python3"
  },
  "language_info": {
   "codemirror_mode": {
    "name": "ipython",
    "version": 3
   },
   "file_extension": ".py",
   "mimetype": "text/x-python",
   "name": "python",
   "nbconvert_exporter": "python",
   "pygments_lexer": "ipython3",
   "version": "3.9.7"
  },
  "papermill": {
   "default_parameters": {},
   "duration": 49.448782,
   "end_time": "2023-09-06T17:56:38.480768",
   "environment_variables": {},
   "exception": null,
   "input_path": "__notebook__.ipynb",
   "output_path": "__notebook__.ipynb",
   "parameters": {},
   "start_time": "2023-09-06T17:55:49.031986",
   "version": "2.4.0"
  }
 },
 "nbformat": 4,
 "nbformat_minor": 5
}
