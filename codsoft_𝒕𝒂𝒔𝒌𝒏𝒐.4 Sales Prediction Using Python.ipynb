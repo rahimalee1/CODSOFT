{
 "cells": [
  {
   "cell_type": "markdown",
   "id": "35b5aa9b",
   "metadata": {
    "id": "ueJy8pha-IkP",
    "papermill": {
     "duration": 0.008992,
     "end_time": "2023-08-02T12:08:38.057225",
     "exception": false,
     "start_time": "2023-08-02T12:08:38.048233",
     "status": "completed"
    },
    "tags": []
   },
   "source": [
    "# TASK#4 SALES PREDICTION USING PYTHON"
   ]
  },
  {
   "cell_type": "markdown",
   "id": "e7be5775",
   "metadata": {
    "id": "YhrHLoyF-NRp",
    "papermill": {
     "duration": 0.008068,
     "end_time": "2023-08-02T12:08:38.074144",
     "exception": false,
     "start_time": "2023-08-02T12:08:38.066076",
     "status": "completed"
    },
    "tags": []
   },
   "source": [
    "Sales prediction with Python enables businesses to forecast future sales based on factors like advertising expenses, customer segmentation, and marketing platforms. Leveraging machine learning techniques, companies can analyze historical data, build predictive models, and make data-driven decisions to optimize marketing strategies, allocate resources efficiently, and maximize revenue potential. By continuously updating the models with new data, businesses can adapt to market dynamics and achieve better performance in a competitive environment."
   ]
  },
  {
   "cell_type": "markdown",
   "id": "87377613",
   "metadata": {},
   "source": [
    "Author : Muhammad Rahim\n",
    "\n",
    "Batch  : October\n",
    "\n",
    "Domain : Data Science"
   ]
  },
  {
   "cell_type": "markdown",
   "id": "79e9660f",
   "metadata": {},
   "source": [
    "## Importing necessary libraries"
   ]
  },
  {
   "cell_type": "code",
   "execution_count": 1,
   "id": "fa85d339",
   "metadata": {
    "execution": {
     "iopub.execute_input": "2023-08-02T12:08:38.095078Z",
     "iopub.status.busy": "2023-08-02T12:08:38.094227Z",
     "iopub.status.idle": "2023-08-02T12:08:40.723432Z",
     "shell.execute_reply": "2023-08-02T12:08:40.722194Z"
    },
    "id": "l40YbOAh-nCd",
    "papermill": {
     "duration": 2.64261,
     "end_time": "2023-08-02T12:08:40.726760",
     "exception": false,
     "start_time": "2023-08-02T12:08:38.084150",
     "status": "completed"
    },
    "tags": []
   },
   "outputs": [],
   "source": [
    "import numpy as np\n",
    "import pandas as pd\n",
    "import seaborn as sns\n",
    "import matplotlib.pyplot as plt\n",
    "import os\n",
    "import statsmodels.formula.api as sm\n",
    "from sklearn.linear_model import LinearRegression, Ridge, Lasso, ElasticNet\n",
    "from sklearn.metrics import mean_squared_error, r2_score\n",
    "from sklearn.model_selection import train_test_split\n",
    "from sklearn.model_selection import cross_val_score\n",
    "from sklearn.model_selection import GridSearchCV\n",
    "import warnings"
   ]
  },
  {
   "cell_type": "code",
   "execution_count": 2,
   "id": "79a956a9",
   "metadata": {
    "execution": {
     "iopub.execute_input": "2023-08-02T12:08:40.746933Z",
     "iopub.status.busy": "2023-08-02T12:08:40.745275Z",
     "iopub.status.idle": "2023-08-02T12:08:40.757649Z",
     "shell.execute_reply": "2023-08-02T12:08:40.756399Z"
    },
    "id": "mTJ268a3-tlT",
    "outputId": "a9982c38-0cce-4b35-b956-723f2614c34a",
    "papermill": {
     "duration": 0.025385,
     "end_time": "2023-08-02T12:08:40.760590",
     "exception": false,
     "start_time": "2023-08-02T12:08:40.735205",
     "status": "completed"
    },
    "scrolled": true,
    "tags": []
   },
   "outputs": [
    {
     "data": {
      "text/plain": [
       "'F:\\\\SZABIST\\\\Semester 6\\\\Data Science\\\\Codes and Files\\\\codsoft'"
      ]
     },
     "execution_count": 2,
     "metadata": {},
     "output_type": "execute_result"
    }
   ],
   "source": [
    "warnings.simplefilter(action='ignore', category=FutureWarning)\n",
    "os.getcwd()\n"
   ]
  },
  {
   "cell_type": "markdown",
   "id": "0490a4c6",
   "metadata": {},
   "source": [
    "## Loading Dataset"
   ]
  },
  {
   "cell_type": "code",
   "execution_count": 3,
   "id": "7b037f9f",
   "metadata": {
    "execution": {
     "iopub.execute_input": "2023-08-02T12:08:40.781112Z",
     "iopub.status.busy": "2023-08-02T12:08:40.780040Z",
     "iopub.status.idle": "2023-08-02T12:08:40.817342Z",
     "shell.execute_reply": "2023-08-02T12:08:40.815976Z"
    },
    "id": "EkXHvdh--3Uq",
    "papermill": {
     "duration": 0.05073,
     "end_time": "2023-08-02T12:08:40.820218",
     "exception": false,
     "start_time": "2023-08-02T12:08:40.769488",
     "status": "completed"
    },
    "tags": []
   },
   "outputs": [],
   "source": [
    "# Loading dataset\n",
    "\n",
    "df = pd.read_csv(\"Advertising.csv\")"
   ]
  },
  {
   "cell_type": "markdown",
   "id": "44fa5235",
   "metadata": {
    "id": "ncnK7Izv_PCv",
    "papermill": {
     "duration": 0.008805,
     "end_time": "2023-08-02T12:08:40.837523",
     "exception": false,
     "start_time": "2023-08-02T12:08:40.828718",
     "status": "completed"
    },
    "tags": []
   },
   "source": [
    "## Exploratory Data Analysis"
   ]
  },
  {
   "cell_type": "code",
   "execution_count": 4,
   "id": "40654a10",
   "metadata": {
    "execution": {
     "iopub.execute_input": "2023-08-02T12:08:40.856530Z",
     "iopub.status.busy": "2023-08-02T12:08:40.856080Z",
     "iopub.status.idle": "2023-08-02T12:08:40.881917Z",
     "shell.execute_reply": "2023-08-02T12:08:40.881018Z"
    },
    "id": "MiodbIp1_Jwa",
    "outputId": "8f2ebb89-487d-4611-a01b-8ee34b3337fc",
    "papermill": {
     "duration": 0.038114,
     "end_time": "2023-08-02T12:08:40.884245",
     "exception": false,
     "start_time": "2023-08-02T12:08:40.846131",
     "status": "completed"
    },
    "tags": []
   },
   "outputs": [
    {
     "data": {
      "text/html": [
       "<div>\n",
       "<style scoped>\n",
       "    .dataframe tbody tr th:only-of-type {\n",
       "        vertical-align: middle;\n",
       "    }\n",
       "\n",
       "    .dataframe tbody tr th {\n",
       "        vertical-align: top;\n",
       "    }\n",
       "\n",
       "    .dataframe thead th {\n",
       "        text-align: right;\n",
       "    }\n",
       "</style>\n",
       "<table border=\"1\" class=\"dataframe\">\n",
       "  <thead>\n",
       "    <tr style=\"text-align: right;\">\n",
       "      <th></th>\n",
       "      <th>TV</th>\n",
       "      <th>Radio</th>\n",
       "      <th>Newspaper</th>\n",
       "      <th>Sales</th>\n",
       "    </tr>\n",
       "  </thead>\n",
       "  <tbody>\n",
       "    <tr>\n",
       "      <th>0</th>\n",
       "      <td>230.1</td>\n",
       "      <td>37.8</td>\n",
       "      <td>69.2</td>\n",
       "      <td>22.1</td>\n",
       "    </tr>\n",
       "    <tr>\n",
       "      <th>1</th>\n",
       "      <td>44.5</td>\n",
       "      <td>39.3</td>\n",
       "      <td>45.1</td>\n",
       "      <td>10.4</td>\n",
       "    </tr>\n",
       "    <tr>\n",
       "      <th>2</th>\n",
       "      <td>17.2</td>\n",
       "      <td>45.9</td>\n",
       "      <td>69.3</td>\n",
       "      <td>12.0</td>\n",
       "    </tr>\n",
       "    <tr>\n",
       "      <th>3</th>\n",
       "      <td>151.5</td>\n",
       "      <td>41.3</td>\n",
       "      <td>58.5</td>\n",
       "      <td>16.5</td>\n",
       "    </tr>\n",
       "    <tr>\n",
       "      <th>4</th>\n",
       "      <td>180.8</td>\n",
       "      <td>10.8</td>\n",
       "      <td>58.4</td>\n",
       "      <td>17.9</td>\n",
       "    </tr>\n",
       "  </tbody>\n",
       "</table>\n",
       "</div>"
      ],
      "text/plain": [
       "      TV  Radio  Newspaper  Sales\n",
       "0  230.1   37.8       69.2   22.1\n",
       "1   44.5   39.3       45.1   10.4\n",
       "2   17.2   45.9       69.3   12.0\n",
       "3  151.5   41.3       58.5   16.5\n",
       "4  180.8   10.8       58.4   17.9"
      ]
     },
     "execution_count": 4,
     "metadata": {},
     "output_type": "execute_result"
    }
   ],
   "source": [
    "# Viewing the first few rows of the dataset\n",
    "\n",
    "df.head()"
   ]
  },
  {
   "cell_type": "code",
   "execution_count": 5,
   "id": "aca08b91",
   "metadata": {
    "execution": {
     "iopub.execute_input": "2023-08-02T12:08:40.906317Z",
     "iopub.status.busy": "2023-08-02T12:08:40.905920Z",
     "iopub.status.idle": "2023-08-02T12:08:40.914016Z",
     "shell.execute_reply": "2023-08-02T12:08:40.912613Z"
    },
    "id": "PmHnFeTa_UWq",
    "outputId": "2553f40e-9d6c-4850-c3e1-39d0f7478514",
    "papermill": {
     "duration": 0.023246,
     "end_time": "2023-08-02T12:08:40.916510",
     "exception": false,
     "start_time": "2023-08-02T12:08:40.893264",
     "status": "completed"
    },
    "tags": []
   },
   "outputs": [
    {
     "data": {
      "text/plain": [
       "Index(['TV', 'Radio', 'Newspaper', 'Sales'], dtype='object')"
      ]
     },
     "execution_count": 5,
     "metadata": {},
     "output_type": "execute_result"
    }
   ],
   "source": [
    "# Get the column names of the dataset\n",
    "\n",
    "df.columns"
   ]
  },
  {
   "cell_type": "code",
   "execution_count": 6,
   "id": "846bcc33",
   "metadata": {
    "execution": {
     "iopub.execute_input": "2023-08-02T12:08:40.936900Z",
     "iopub.status.busy": "2023-08-02T12:08:40.935715Z",
     "iopub.status.idle": "2023-08-02T12:08:40.946439Z",
     "shell.execute_reply": "2023-08-02T12:08:40.945460Z"
    },
    "id": "WUF7GrskAM4b",
    "papermill": {
     "duration": 0.023665,
     "end_time": "2023-08-02T12:08:40.949057",
     "exception": false,
     "start_time": "2023-08-02T12:08:40.925392",
     "status": "completed"
    },
    "tags": []
   },
   "outputs": [],
   "source": [
    "# To rename the column 'Unnamed: 0' to 'Index'\n",
    "\n",
    "df.rename(columns={'Unnamed: 0': 'Index'}, inplace=True)"
   ]
  },
  {
   "cell_type": "code",
   "execution_count": 7,
   "id": "a81c2eed",
   "metadata": {
    "execution": {
     "iopub.execute_input": "2023-08-02T12:08:40.969169Z",
     "iopub.status.busy": "2023-08-02T12:08:40.968754Z",
     "iopub.status.idle": "2023-08-02T12:08:40.988514Z",
     "shell.execute_reply": "2023-08-02T12:08:40.987497Z"
    },
    "id": "ZC4CmPemAVlq",
    "outputId": "9a835c39-b9bb-4deb-8eb3-8ad093907a65",
    "papermill": {
     "duration": 0.032472,
     "end_time": "2023-08-02T12:08:40.990823",
     "exception": false,
     "start_time": "2023-08-02T12:08:40.958351",
     "status": "completed"
    },
    "tags": []
   },
   "outputs": [
    {
     "data": {
      "text/html": [
       "<div>\n",
       "<style scoped>\n",
       "    .dataframe tbody tr th:only-of-type {\n",
       "        vertical-align: middle;\n",
       "    }\n",
       "\n",
       "    .dataframe tbody tr th {\n",
       "        vertical-align: top;\n",
       "    }\n",
       "\n",
       "    .dataframe thead th {\n",
       "        text-align: right;\n",
       "    }\n",
       "</style>\n",
       "<table border=\"1\" class=\"dataframe\">\n",
       "  <thead>\n",
       "    <tr style=\"text-align: right;\">\n",
       "      <th></th>\n",
       "      <th>TV</th>\n",
       "      <th>Radio</th>\n",
       "      <th>Newspaper</th>\n",
       "      <th>Sales</th>\n",
       "    </tr>\n",
       "  </thead>\n",
       "  <tbody>\n",
       "    <tr>\n",
       "      <th>0</th>\n",
       "      <td>230.1</td>\n",
       "      <td>37.8</td>\n",
       "      <td>69.2</td>\n",
       "      <td>22.1</td>\n",
       "    </tr>\n",
       "    <tr>\n",
       "      <th>1</th>\n",
       "      <td>44.5</td>\n",
       "      <td>39.3</td>\n",
       "      <td>45.1</td>\n",
       "      <td>10.4</td>\n",
       "    </tr>\n",
       "    <tr>\n",
       "      <th>2</th>\n",
       "      <td>17.2</td>\n",
       "      <td>45.9</td>\n",
       "      <td>69.3</td>\n",
       "      <td>12.0</td>\n",
       "    </tr>\n",
       "    <tr>\n",
       "      <th>3</th>\n",
       "      <td>151.5</td>\n",
       "      <td>41.3</td>\n",
       "      <td>58.5</td>\n",
       "      <td>16.5</td>\n",
       "    </tr>\n",
       "    <tr>\n",
       "      <th>4</th>\n",
       "      <td>180.8</td>\n",
       "      <td>10.8</td>\n",
       "      <td>58.4</td>\n",
       "      <td>17.9</td>\n",
       "    </tr>\n",
       "    <tr>\n",
       "      <th>...</th>\n",
       "      <td>...</td>\n",
       "      <td>...</td>\n",
       "      <td>...</td>\n",
       "      <td>...</td>\n",
       "    </tr>\n",
       "    <tr>\n",
       "      <th>195</th>\n",
       "      <td>38.2</td>\n",
       "      <td>3.7</td>\n",
       "      <td>13.8</td>\n",
       "      <td>7.6</td>\n",
       "    </tr>\n",
       "    <tr>\n",
       "      <th>196</th>\n",
       "      <td>94.2</td>\n",
       "      <td>4.9</td>\n",
       "      <td>8.1</td>\n",
       "      <td>14.0</td>\n",
       "    </tr>\n",
       "    <tr>\n",
       "      <th>197</th>\n",
       "      <td>177.0</td>\n",
       "      <td>9.3</td>\n",
       "      <td>6.4</td>\n",
       "      <td>14.8</td>\n",
       "    </tr>\n",
       "    <tr>\n",
       "      <th>198</th>\n",
       "      <td>283.6</td>\n",
       "      <td>42.0</td>\n",
       "      <td>66.2</td>\n",
       "      <td>25.5</td>\n",
       "    </tr>\n",
       "    <tr>\n",
       "      <th>199</th>\n",
       "      <td>232.1</td>\n",
       "      <td>8.6</td>\n",
       "      <td>8.7</td>\n",
       "      <td>18.4</td>\n",
       "    </tr>\n",
       "  </tbody>\n",
       "</table>\n",
       "<p>200 rows × 4 columns</p>\n",
       "</div>"
      ],
      "text/plain": [
       "        TV  Radio  Newspaper  Sales\n",
       "0    230.1   37.8       69.2   22.1\n",
       "1     44.5   39.3       45.1   10.4\n",
       "2     17.2   45.9       69.3   12.0\n",
       "3    151.5   41.3       58.5   16.5\n",
       "4    180.8   10.8       58.4   17.9\n",
       "..     ...    ...        ...    ...\n",
       "195   38.2    3.7       13.8    7.6\n",
       "196   94.2    4.9        8.1   14.0\n",
       "197  177.0    9.3        6.4   14.8\n",
       "198  283.6   42.0       66.2   25.5\n",
       "199  232.1    8.6        8.7   18.4\n",
       "\n",
       "[200 rows x 4 columns]"
      ]
     },
     "execution_count": 7,
     "metadata": {},
     "output_type": "execute_result"
    }
   ],
   "source": [
    "df"
   ]
  },
  {
   "cell_type": "code",
   "execution_count": 8,
   "id": "848d816b",
   "metadata": {
    "execution": {
     "iopub.execute_input": "2023-08-02T12:08:41.015118Z",
     "iopub.status.busy": "2023-08-02T12:08:41.013474Z",
     "iopub.status.idle": "2023-08-02T12:08:41.021369Z",
     "shell.execute_reply": "2023-08-02T12:08:41.020073Z"
    },
    "id": "UMr8F_bl_ZSy",
    "outputId": "10eadebe-d7b6-40f9-98ef-d776d1cfcacc",
    "papermill": {
     "duration": 0.023988,
     "end_time": "2023-08-02T12:08:41.024000",
     "exception": false,
     "start_time": "2023-08-02T12:08:41.000012",
     "status": "completed"
    },
    "tags": []
   },
   "outputs": [
    {
     "data": {
      "text/plain": [
       "(200, 4)"
      ]
     },
     "execution_count": 8,
     "metadata": {},
     "output_type": "execute_result"
    }
   ],
   "source": [
    "# Get the shape of the dataset (rows, columns)\n",
    "\n",
    "df.shape"
   ]
  },
  {
   "cell_type": "code",
   "execution_count": 9,
   "id": "73ab71a9",
   "metadata": {
    "execution": {
     "iopub.execute_input": "2023-08-02T12:08:41.045512Z",
     "iopub.status.busy": "2023-08-02T12:08:41.045042Z",
     "iopub.status.idle": "2023-08-02T12:08:41.072489Z",
     "shell.execute_reply": "2023-08-02T12:08:41.071274Z"
    },
    "id": "kMbt6KxJ_zxX",
    "outputId": "e0c64889-00e0-40e7-c3ca-6b29b1fb9f2f",
    "papermill": {
     "duration": 0.041724,
     "end_time": "2023-08-02T12:08:41.075294",
     "exception": false,
     "start_time": "2023-08-02T12:08:41.033570",
     "status": "completed"
    },
    "tags": []
   },
   "outputs": [
    {
     "name": "stdout",
     "output_type": "stream",
     "text": [
      "<class 'pandas.core.frame.DataFrame'>\n",
      "RangeIndex: 200 entries, 0 to 199\n",
      "Data columns (total 4 columns):\n",
      " #   Column     Non-Null Count  Dtype  \n",
      "---  ------     --------------  -----  \n",
      " 0   TV         200 non-null    float64\n",
      " 1   Radio      200 non-null    float64\n",
      " 2   Newspaper  200 non-null    float64\n",
      " 3   Sales      200 non-null    float64\n",
      "dtypes: float64(4)\n",
      "memory usage: 6.4 KB\n"
     ]
    }
   ],
   "source": [
    "# Check information about the dataset, data types, and missing values\n",
    "\n",
    "df.info()"
   ]
  },
  {
   "cell_type": "code",
   "execution_count": 10,
   "id": "2b98ff21",
   "metadata": {
    "execution": {
     "iopub.execute_input": "2023-08-02T12:08:41.099757Z",
     "iopub.status.busy": "2023-08-02T12:08:41.098494Z",
     "iopub.status.idle": "2023-08-02T12:08:41.151145Z",
     "shell.execute_reply": "2023-08-02T12:08:41.149695Z"
    },
    "id": "gvzvLdWcBVZ3",
    "outputId": "2e5a348c-a697-4398-beeb-8897cee26cb4",
    "papermill": {
     "duration": 0.069216,
     "end_time": "2023-08-02T12:08:41.154237",
     "exception": false,
     "start_time": "2023-08-02T12:08:41.085021",
     "status": "completed"
    },
    "tags": []
   },
   "outputs": [
    {
     "data": {
      "text/html": [
       "<div>\n",
       "<style scoped>\n",
       "    .dataframe tbody tr th:only-of-type {\n",
       "        vertical-align: middle;\n",
       "    }\n",
       "\n",
       "    .dataframe tbody tr th {\n",
       "        vertical-align: top;\n",
       "    }\n",
       "\n",
       "    .dataframe thead th {\n",
       "        text-align: right;\n",
       "    }\n",
       "</style>\n",
       "<table border=\"1\" class=\"dataframe\">\n",
       "  <thead>\n",
       "    <tr style=\"text-align: right;\">\n",
       "      <th></th>\n",
       "      <th>count</th>\n",
       "      <th>mean</th>\n",
       "      <th>std</th>\n",
       "      <th>min</th>\n",
       "      <th>25%</th>\n",
       "      <th>50%</th>\n",
       "      <th>75%</th>\n",
       "      <th>max</th>\n",
       "    </tr>\n",
       "  </thead>\n",
       "  <tbody>\n",
       "    <tr>\n",
       "      <th>TV</th>\n",
       "      <td>200.0</td>\n",
       "      <td>147.0425</td>\n",
       "      <td>85.854236</td>\n",
       "      <td>0.7</td>\n",
       "      <td>74.375</td>\n",
       "      <td>149.75</td>\n",
       "      <td>218.825</td>\n",
       "      <td>296.4</td>\n",
       "    </tr>\n",
       "    <tr>\n",
       "      <th>Radio</th>\n",
       "      <td>200.0</td>\n",
       "      <td>23.2640</td>\n",
       "      <td>14.846809</td>\n",
       "      <td>0.0</td>\n",
       "      <td>9.975</td>\n",
       "      <td>22.90</td>\n",
       "      <td>36.525</td>\n",
       "      <td>49.6</td>\n",
       "    </tr>\n",
       "    <tr>\n",
       "      <th>Newspaper</th>\n",
       "      <td>200.0</td>\n",
       "      <td>30.5540</td>\n",
       "      <td>21.778621</td>\n",
       "      <td>0.3</td>\n",
       "      <td>12.750</td>\n",
       "      <td>25.75</td>\n",
       "      <td>45.100</td>\n",
       "      <td>114.0</td>\n",
       "    </tr>\n",
       "    <tr>\n",
       "      <th>Sales</th>\n",
       "      <td>200.0</td>\n",
       "      <td>15.1305</td>\n",
       "      <td>5.283892</td>\n",
       "      <td>1.6</td>\n",
       "      <td>11.000</td>\n",
       "      <td>16.00</td>\n",
       "      <td>19.050</td>\n",
       "      <td>27.0</td>\n",
       "    </tr>\n",
       "  </tbody>\n",
       "</table>\n",
       "</div>"
      ],
      "text/plain": [
       "           count      mean        std  min     25%     50%      75%    max\n",
       "TV         200.0  147.0425  85.854236  0.7  74.375  149.75  218.825  296.4\n",
       "Radio      200.0   23.2640  14.846809  0.0   9.975   22.90   36.525   49.6\n",
       "Newspaper  200.0   30.5540  21.778621  0.3  12.750   25.75   45.100  114.0\n",
       "Sales      200.0   15.1305   5.283892  1.6  11.000   16.00   19.050   27.0"
      ]
     },
     "execution_count": 10,
     "metadata": {},
     "output_type": "execute_result"
    }
   ],
   "source": [
    "# Get statistical summary of the numerical columns\n",
    "\n",
    "df.describe().T"
   ]
  },
  {
   "cell_type": "code",
   "execution_count": 11,
   "id": "49e8a304",
   "metadata": {
    "execution": {
     "iopub.execute_input": "2023-08-02T12:08:41.177008Z",
     "iopub.status.busy": "2023-08-02T12:08:41.176526Z",
     "iopub.status.idle": "2023-08-02T12:08:41.187237Z",
     "shell.execute_reply": "2023-08-02T12:08:41.186332Z"
    },
    "id": "hk_1A_4nBxnH",
    "outputId": "f398401d-383c-49d2-8197-5ba1d3c3397c",
    "papermill": {
     "duration": 0.025023,
     "end_time": "2023-08-02T12:08:41.189630",
     "exception": false,
     "start_time": "2023-08-02T12:08:41.164607",
     "status": "completed"
    },
    "tags": []
   },
   "outputs": [
    {
     "data": {
      "text/plain": [
       "TV           0\n",
       "Radio        0\n",
       "Newspaper    0\n",
       "Sales        0\n",
       "dtype: int64"
      ]
     },
     "execution_count": 11,
     "metadata": {},
     "output_type": "execute_result"
    }
   ],
   "source": [
    "# Check for missing values in the dataset\n",
    "\n",
    "df.isnull().values.any()\n",
    "df.isnull().sum()"
   ]
  },
  {
   "cell_type": "markdown",
   "id": "69f06200",
   "metadata": {
    "id": "eiIRk_EXB7Pq",
    "papermill": {
     "duration": 0.010645,
     "end_time": "2023-08-02T12:08:41.210862",
     "exception": false,
     "start_time": "2023-08-02T12:08:41.200217",
     "status": "completed"
    },
    "tags": []
   },
   "source": [
    "## Data Visualizaiton"
   ]
  },
  {
   "cell_type": "code",
   "execution_count": 12,
   "id": "e22097ca",
   "metadata": {
    "execution": {
     "iopub.execute_input": "2023-08-02T12:08:41.233713Z",
     "iopub.status.busy": "2023-08-02T12:08:41.233269Z",
     "iopub.status.idle": "2023-08-02T12:08:42.566104Z",
     "shell.execute_reply": "2023-08-02T12:08:42.564952Z"
    },
    "id": "WLKWLtvdByxK",
    "outputId": "167d2a7d-884e-4738-b80f-c5ae6bd69dfb",
    "papermill": {
     "duration": 1.347243,
     "end_time": "2023-08-02T12:08:42.568490",
     "exception": false,
     "start_time": "2023-08-02T12:08:41.221247",
     "status": "completed"
    },
    "tags": []
   },
   "outputs": [
    {
     "data": {
      "text/plain": [
       "<seaborn.axisgrid.PairGrid at 0x20f9bc4adc0>"
      ]
     },
     "execution_count": 12,
     "metadata": {},
     "output_type": "execute_result"
    },
    {
     "data": {
      "image/png": "[encoded data removed]",
      "text/plain": [
       "<Figure size 540x180 with 3 Axes>"
      ]
     },
     "metadata": {
      "needs_background": "light"
     },
     "output_type": "display_data"
    }
   ],
   "source": [
    "# Scatter plots to check the linearity assumption between each independent variable (TV, Radio, Newspaper) and the dependent variable (Sales)\n",
    "\n",
    "sns.pairplot(df, x_vars=[\"TV\", \"Radio\", \"Newspaper\"], y_vars=\"Sales\", kind=\"reg\")\n"
   ]
  },
  {
   "cell_type": "code",
   "execution_count": 13,
   "id": "558862ed",
   "metadata": {
    "execution": {
     "iopub.execute_input": "2023-08-02T12:08:42.594022Z",
     "iopub.status.busy": "2023-08-02T12:08:42.593509Z",
     "iopub.status.idle": "2023-08-02T12:08:43.794469Z",
     "shell.execute_reply": "2023-08-02T12:08:43.793116Z"
    },
    "id": "95UQsbTACAky",
    "outputId": "06131caa-2c35-4375-aaff-594db7c471d5",
    "papermill": {
     "duration": 1.217306,
     "end_time": "2023-08-02T12:08:43.797543",
     "exception": false,
     "start_time": "2023-08-02T12:08:42.580237",
     "status": "completed"
    },
    "tags": []
   },
   "outputs": [
    {
     "data": {
      "text/plain": [
       "array([[<AxesSubplot:title={'center':'TV'}>,\n",
       "        <AxesSubplot:title={'center':'Radio'}>],\n",
       "       [<AxesSubplot:title={'center':'Newspaper'}>,\n",
       "        <AxesSubplot:title={'center':'Sales'}>]], dtype=object)"
      ]
     },
     "execution_count": 13,
     "metadata": {},
     "output_type": "execute_result"
    },
    {
     "data": {
      "image/png": "[encoded data removed]",
      "text/plain": [
       "<Figure size 432x288 with 4 Axes>"
      ]
     },
     "metadata": {
      "needs_background": "light"
     },
     "output_type": "display_data"
    }
   ],
   "source": [
    "# Histograms to check the normality assumption of the dependent variable (Sales)\n",
    "\n",
    "df.hist(bins=20)"
   ]
  },
  {
   "cell_type": "code",
   "execution_count": 14,
   "id": "9ba27ee1",
   "metadata": {
    "execution": {
     "iopub.execute_input": "2023-08-02T12:08:43.827438Z",
     "iopub.status.busy": "2023-08-02T12:08:43.826213Z",
     "iopub.status.idle": "2023-08-02T12:08:45.926402Z",
     "shell.execute_reply": "2023-08-02T12:08:45.925073Z"
    },
    "id": "17YU0Y5CC6og",
    "outputId": "f34c0560-dc3c-4225-8dd4-6311b82275b6",
    "papermill": {
     "duration": 2.118468,
     "end_time": "2023-08-02T12:08:45.929162",
     "exception": false,
     "start_time": "2023-08-02T12:08:43.810694",
     "status": "completed"
    },
    "tags": []
   },
   "outputs": [
    {
     "data": {
      "text/plain": [
       "<seaborn.axisgrid.FacetGrid at 0x20fa1fe76a0>"
      ]
     },
     "execution_count": 14,
     "metadata": {},
     "output_type": "execute_result"
    },
    {
     "data": {
      "image/png": "[encoded data removed]",
      "text/plain": [
       "<Figure size 360x360 with 1 Axes>"
      ]
     },
     "metadata": {
      "needs_background": "light"
     },
     "output_type": "display_data"
    },
    {
     "data": {
      "image/png": "[encoded data removed]",
      "text/plain": [
       "<Figure size 360x360 with 1 Axes>"
      ]
     },
     "metadata": {
      "needs_background": "light"
     },
     "output_type": "display_data"
    },
    {
     "data": {
      "image/png": "[encoded data removed]",
      "text/plain": [
       "<Figure size 360x360 with 1 Axes>"
      ]
     },
     "metadata": {
      "needs_background": "light"
     },
     "output_type": "display_data"
    }
   ],
   "source": [
    "# Linear regression plots to visualize the relationship between each independent variable and the dependent variable\n",
    "\n",
    "sns.lmplot(x='TV', y='Sales', data=df)\n",
    "sns.lmplot(x='Radio', y='Sales', data=df)\n",
    "sns.lmplot(x='Newspaper',y= 'Sales', data=df)"
   ]
  },
  {
   "cell_type": "code",
   "execution_count": 15,
   "id": "684cad94",
   "metadata": {
    "execution": {
     "iopub.execute_input": "2023-08-02T12:08:45.962201Z",
     "iopub.status.busy": "2023-08-02T12:08:45.961771Z",
     "iopub.status.idle": "2023-08-02T12:08:46.326614Z",
     "shell.execute_reply": "2023-08-02T12:08:46.325176Z"
    },
    "id": "grkK2FMhC7Gr",
    "outputId": "560eda23-ad4a-479c-bf8a-5996f9848600",
    "papermill": {
     "duration": 0.384747,
     "end_time": "2023-08-02T12:08:46.329466",
     "exception": false,
     "start_time": "2023-08-02T12:08:45.944719",
     "status": "completed"
    },
    "tags": []
   },
   "outputs": [
    {
     "data": {
      "image/png": "[encoded data removed]",
      "text/plain": [
       "<Figure size 864x648 with 2 Axes>"
      ]
     },
     "metadata": {
      "needs_background": "light"
     },
     "output_type": "display_data"
    }
   ],
   "source": [
    "# Correlation Heatmap to check for multicollinearity among independent/dependent variables\n",
    "\n",
    "corrmat = df.corr()\n",
    "f, ax = plt.subplots(figsize=(12, 9))\n",
    "sns.heatmap(corrmat, vmin=0, vmax=1, square=True, cmap=\"YlGnBu\", ax=ax)\n",
    "plt.show()"
   ]
  },
  {
   "cell_type": "markdown",
   "id": "f23a1b04",
   "metadata": {},
   "source": [
    "## Creating Models"
   ]
  },
  {
   "cell_type": "code",
   "execution_count": 16,
   "id": "cba140c7",
   "metadata": {
    "execution": {
     "iopub.execute_input": "2023-08-02T12:08:46.362821Z",
     "iopub.status.busy": "2023-08-02T12:08:46.362381Z",
     "iopub.status.idle": "2023-08-02T12:08:46.374584Z",
     "shell.execute_reply": "2023-08-02T12:08:46.373273Z"
    },
    "id": "hsKF8w1VEH0b",
    "papermill": {
     "duration": 0.032618,
     "end_time": "2023-08-02T12:08:46.377914",
     "exception": false,
     "start_time": "2023-08-02T12:08:46.345296",
     "status": "completed"
    },
    "tags": []
   },
   "outputs": [],
   "source": [
    "# Model Preparation\n",
    "\n",
    "X = df.drop('Sales', axis=1)\n",
    "y = df[[\"Sales\"]]\n",
    "\n",
    "X_train, X_test, y_train, y_test = train_test_split(X, y, test_size=0.20, random_state=46)\n"
   ]
  },
  {
   "cell_type": "code",
   "execution_count": 17,
   "id": "1e78b883",
   "metadata": {
    "execution": {
     "iopub.execute_input": "2023-08-02T12:08:46.413820Z",
     "iopub.status.busy": "2023-08-02T12:08:46.413295Z",
     "iopub.status.idle": "2023-08-02T12:08:46.433355Z",
     "shell.execute_reply": "2023-08-02T12:08:46.432088Z"
    },
    "id": "AORM6iX4ELxS",
    "papermill": {
     "duration": 0.041634,
     "end_time": "2023-08-02T12:08:46.435946",
     "exception": false,
     "start_time": "2023-08-02T12:08:46.394312",
     "status": "completed"
    },
    "tags": []
   },
   "outputs": [],
   "source": [
    "# Linear Regression Model\n",
    "\n",
    "lin_model = sm.ols(formula=\"Sales ~ TV + Radio + Newspaper\", data=df).fit()"
   ]
  },
  {
   "cell_type": "code",
   "execution_count": 18,
   "id": "24568477",
   "metadata": {
    "execution": {
     "iopub.execute_input": "2023-08-02T12:08:46.469836Z",
     "iopub.status.busy": "2023-08-02T12:08:46.469001Z",
     "iopub.status.idle": "2023-08-02T12:08:46.477046Z",
     "shell.execute_reply": "2023-08-02T12:08:46.475852Z"
    },
    "id": "UK6IENGIEUX7",
    "outputId": "220ecb16-a3f0-437b-833f-649cdb4049e5",
    "papermill": {
     "duration": 0.027686,
     "end_time": "2023-08-02T12:08:46.479218",
     "exception": false,
     "start_time": "2023-08-02T12:08:46.451532",
     "status": "completed"
    },
    "tags": []
   },
   "outputs": [
    {
     "name": "stdout",
     "output_type": "stream",
     "text": [
      "Intercept    4.625124\n",
      "TV           0.054446\n",
      "Radio        0.107001\n",
      "Newspaper    0.000336\n",
      "dtype: float64 \n",
      "\n"
     ]
    }
   ],
   "source": [
    "# Print the coefficients of the linear model\n",
    "\n",
    "print(lin_model.params, \"\\n\")"
   ]
  },
  {
   "cell_type": "code",
   "execution_count": 19,
   "id": "ab061447",
   "metadata": {
    "execution": {
     "iopub.execute_input": "2023-08-02T12:08:46.513314Z",
     "iopub.status.busy": "2023-08-02T12:08:46.512318Z",
     "iopub.status.idle": "2023-08-02T12:08:46.541451Z",
     "shell.execute_reply": "2023-08-02T12:08:46.539166Z"
    },
    "id": "lj4d530ZEYRy",
    "outputId": "984a85aa-ab71-43e8-ae8a-a20054d8882b",
    "papermill": {
     "duration": 0.049539,
     "end_time": "2023-08-02T12:08:46.544442",
     "exception": false,
     "start_time": "2023-08-02T12:08:46.494903",
     "status": "completed"
    },
    "tags": []
   },
   "outputs": [
    {
     "name": "stdout",
     "output_type": "stream",
     "text": [
      "                            OLS Regression Results                            \n",
      "==============================================================================\n",
      "Dep. Variable:                  Sales   R-squared:                       0.903\n",
      "Model:                            OLS   Adj. R-squared:                  0.901\n",
      "Method:                 Least Squares   F-statistic:                     605.4\n",
      "Date:                Mon, 13 Nov 2023   Prob (F-statistic):           8.13e-99\n",
      "Time:                        18:13:23   Log-Likelihood:                -383.34\n",
      "No. Observations:                 200   AIC:                             774.7\n",
      "Df Residuals:                     196   BIC:                             787.9\n",
      "Df Model:                           3                                         \n",
      "Covariance Type:            nonrobust                                         \n",
      "==============================================================================\n",
      "                 coef    std err          t      P>|t|      [0.025      0.975]\n",
      "------------------------------------------------------------------------------\n",
      "Intercept      4.6251      0.308     15.041      0.000       4.019       5.232\n",
      "TV             0.0544      0.001     39.592      0.000       0.052       0.057\n",
      "Radio          0.1070      0.008     12.604      0.000       0.090       0.124\n",
      "Newspaper      0.0003      0.006      0.058      0.954      -0.011       0.012\n",
      "==============================================================================\n",
      "Omnibus:                       16.081   Durbin-Watson:                   2.251\n",
      "Prob(Omnibus):                  0.000   Jarque-Bera (JB):               27.655\n",
      "Skew:                          -0.431   Prob(JB):                     9.88e-07\n",
      "Kurtosis:                       4.605   Cond. No.                         454.\n",
      "==============================================================================\n",
      "\n",
      "Notes:\n",
      "[1] Standard Errors assume that the covariance matrix of the errors is correctly specified.\n"
     ]
    }
   ],
   "source": [
    "# Print the summary of the linear regression model\n",
    "\n",
    "print(lin_model.summary())"
   ]
  },
  {
   "cell_type": "markdown",
   "id": "c0442f64",
   "metadata": {},
   "source": [
    "## Evaluation"
   ]
  },
  {
   "cell_type": "code",
   "execution_count": 20,
   "id": "a2813579",
   "metadata": {
    "execution": {
     "iopub.execute_input": "2023-08-02T12:08:46.578703Z",
     "iopub.status.busy": "2023-08-02T12:08:46.577839Z",
     "iopub.status.idle": "2023-08-02T12:08:46.584319Z",
     "shell.execute_reply": "2023-08-02T12:08:46.583050Z"
    },
    "id": "USsAHIwdEcU6",
    "papermill": {
     "duration": 0.026445,
     "end_time": "2023-08-02T12:08:46.586890",
     "exception": false,
     "start_time": "2023-08-02T12:08:46.560445",
     "status": "completed"
    },
    "tags": []
   },
   "outputs": [],
   "source": [
    "# Evaluate the model\n",
    "\n",
    "results = []\n",
    "names = []"
   ]
  },
  {
   "cell_type": "code",
   "execution_count": 21,
   "id": "e796683e",
   "metadata": {
    "execution": {
     "iopub.execute_input": "2023-08-02T12:08:46.622591Z",
     "iopub.status.busy": "2023-08-02T12:08:46.622071Z",
     "iopub.status.idle": "2023-08-02T12:08:46.628311Z",
     "shell.execute_reply": "2023-08-02T12:08:46.627031Z"
    },
    "id": "Y20bPplREhWK",
    "papermill": {
     "duration": 0.027207,
     "end_time": "2023-08-02T12:08:46.630988",
     "exception": false,
     "start_time": "2023-08-02T12:08:46.603781",
     "status": "completed"
    },
    "tags": []
   },
   "outputs": [],
   "source": [
    "# Define a list of models to evaluate\n",
    "\n",
    "models = [('LinearRegression', LinearRegression())]"
   ]
  },
  {
   "cell_type": "code",
   "execution_count": 22,
   "id": "c361e739",
   "metadata": {
    "execution": {
     "iopub.execute_input": "2023-08-02T12:08:46.665786Z",
     "iopub.status.busy": "2023-08-02T12:08:46.665290Z",
     "iopub.status.idle": "2023-08-02T12:08:46.699793Z",
     "shell.execute_reply": "2023-08-02T12:08:46.698716Z"
    },
    "id": "f6Ko-t1GEseP",
    "outputId": "65ee08ec-48b1-4438-c3e7-7151f4b15099",
    "papermill": {
     "duration": 0.054676,
     "end_time": "2023-08-02T12:08:46.702011",
     "exception": false,
     "start_time": "2023-08-02T12:08:46.647335",
     "status": "completed"
    },
    "tags": []
   },
   "outputs": [
    {
     "name": "stdout",
     "output_type": "stream",
     "text": [
      "LinearRegression: 1.612152\n"
     ]
    }
   ],
   "source": [
    "# Loop through each model, fit it to the data, and calculate the RMSE\n",
    "\n",
    "for name, model in models:\n",
    "    model.fit(X_train, y_train)\n",
    "    y_pred = model.predict(X_test)\n",
    "    result = np.sqrt(mean_squared_error(y_test, y_pred))\n",
    "    results.append(result)\n",
    "    names.append(name)\n",
    "    msg = \"%s: %f\" % (name, result)\n",
    "    print(msg)"
   ]
  },
  {
   "cell_type": "code",
   "execution_count": 23,
   "id": "b53b3b30",
   "metadata": {
    "execution": {
     "iopub.execute_input": "2023-08-02T12:08:46.739097Z",
     "iopub.status.busy": "2023-08-02T12:08:46.738337Z",
     "iopub.status.idle": "2023-08-02T12:08:46.754436Z",
     "shell.execute_reply": "2023-08-02T12:08:46.752918Z"
    },
    "id": "CfKH3KQIEyla",
    "outputId": "71204993-e17b-46c4-c0ed-e9604504368f",
    "papermill": {
     "duration": 0.037584,
     "end_time": "2023-08-02T12:08:46.757152",
     "exception": false,
     "start_time": "2023-08-02T12:08:46.719568",
     "status": "completed"
    },
    "tags": []
   },
   "outputs": [
    {
     "name": "stdout",
     "output_type": "stream",
     "text": [
      "Predicted Sales: 0    15.428155\n",
      "dtype: float64\n"
     ]
    }
   ],
   "source": [
    "# Make predictions on new data\n",
    "\n",
    "new_data = pd.DataFrame({'TV': [100], 'Radio': [50], 'Newspaper': [25]})\n",
    "predicted_sales = lin_model.predict(new_data)\n",
    "print(\"Predicted Sales:\", predicted_sales)"
   ]
  },
  {
   "cell_type": "code",
   "execution_count": 24,
   "id": "03f0889a",
   "metadata": {
    "execution": {
     "iopub.execute_input": "2023-08-02T12:08:46.792839Z",
     "iopub.status.busy": "2023-08-02T12:08:46.792347Z",
     "iopub.status.idle": "2023-08-02T12:08:46.808913Z",
     "shell.execute_reply": "2023-08-02T12:08:46.807693Z"
    },
    "id": "N-W5a1hlGdPg",
    "outputId": "fffdfcae-ec90-477d-e2b9-c85951f46246",
    "papermill": {
     "duration": 0.037249,
     "end_time": "2023-08-02T12:08:46.811194",
     "exception": false,
     "start_time": "2023-08-02T12:08:46.773945",
     "status": "completed"
    },
    "tags": []
   },
   "outputs": [
    {
     "name": "stdout",
     "output_type": "stream",
     "text": [
      "Predicted Sales: 0    12.754199\n",
      "dtype: float64\n"
     ]
    }
   ],
   "source": [
    "# Make predictions on new data\n",
    "\n",
    "new_data = pd.DataFrame({'TV': [25], 'Radio': [63], 'Newspaper': [80]})\n",
    "predicted_sales = lin_model.predict(new_data)\n",
    "print(\"Predicted Sales:\", predicted_sales)"
   ]
  }
 ],
 "metadata": {
  "kernelspec": {
   "display_name": "Python 3 (ipykernel)",
   "language": "python",
   "name": "python3"
  },
  "language_info": {
   "codemirror_mode": {
    "name": "ipython",
    "version": 3
   },
   "file_extension": ".py",
   "mimetype": "text/x-python",
   "name": "python",
   "nbconvert_exporter": "python",
   "pygments_lexer": "ipython3",
   "version": "3.9.7"
  },
  "papermill": {
   "default_parameters": {},
   "duration": 23.952905,
   "end_time": "2023-08-02T12:08:49.363517",
   "environment_variables": {},
   "exception": null,
   "input_path": "__notebook__.ipynb",
   "output_path": "__notebook__.ipynb",
   "parameters": {},
   "start_time": "2023-08-02T12:08:25.410612",
   "version": "2.4.0"
  }
 },
 "nbformat": 4,
 "nbformat_minor": 5
}
